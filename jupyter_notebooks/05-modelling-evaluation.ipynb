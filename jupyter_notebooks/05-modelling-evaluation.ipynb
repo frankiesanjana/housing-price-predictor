{
  "cells": [
    {
      "cell_type": "markdown",
      "metadata": {
        "id": "0aStgWSO0E0E"
      },
      "source": [
        "# Notebook 05 - Modelling & Evaluation"
      ]
    },
    {
      "cell_type": "markdown",
      "metadata": {
        "id": "1eLEkw5O0ECa"
      },
      "source": [
        "## Objectives\n",
        "\n",
        "* Fit and evaluate a model for predicting the sale price of a house\n",
        "\n",
        "## Inputs\n",
        "\n",
        "* CSV file generated in Notebook 01: outputs/datasets/collection/house_price_records.csv\n",
        "* Instructions on which variables to use for data cleaning and feature engineering. These are found in their respective notebooks.\n",
        "\n",
        "## Outputs\n",
        "\n",
        "The following outputs will be generated in the next notebook, but follow on from the work undertaken in this notebook:\n",
        "* Train set (features and target)\n",
        "* Test set (features and target)\n",
        "* ML Pipeline to predict the sale price for a given property\n",
        "* Feature importance plot\n",
        "\n",
        "## Additional Comments / Conclusions\n",
        "\n",
        "* After investigating various algorithms and combinations of hyperparameters, we find that using the RandomForestRegressor algorithm with 10-fold cross-validation has produced the best results. Investigating other high-performing algorithms has not been able to improve the model's performance on unseen data.\n",
        "[* next, we investigated whether Principal Component Analysis is able to produce better results...]"
      ]
    },
    {
      "cell_type": "markdown",
      "metadata": {
        "id": "9uWZXH9LwoQg"
      },
      "source": [
        "---"
      ]
    },
    {
      "cell_type": "markdown",
      "metadata": {},
      "source": [
        "# Import Packages"
      ]
    },
    {
      "cell_type": "code",
      "execution_count": 81,
      "metadata": {},
      "outputs": [],
      "source": [
        "import joblib\n",
        "import os\n",
        "import numpy as np\n",
        "import pandas as pd\n",
        "import matplotlib.pyplot as plt\n",
        "import seaborn as sns\n",
        "sns.set_style('whitegrid')\n",
        "from sklearn.pipeline import Pipeline\n",
        "from sklearn.model_selection import train_test_split\n",
        "from sklearn.metrics import r2_score, mean_squared_error, mean_absolute_error\n",
        "from sklearn.decomposition import PCA\n",
        "\n",
        "# Data Cleaning & Feature Engineering\n",
        "from feature_engine import transformation as vt\n",
        "from feature_engine.encoding import OrdinalEncoder\n",
        "from feature_engine.selection import DropFeatures, SmartCorrelatedSelection\n",
        "from feature_engine.imputation import MeanMedianImputer, CategoricalImputer, ArbitraryNumberImputer\n",
        "\n",
        "# Feature Scaling\n",
        "from sklearn.preprocessing import StandardScaler\n",
        "\n",
        "# Feature Selection\n",
        "from sklearn.feature_selection import SelectFromModel\n",
        "\n",
        "# ML algorithms & hyperparameter optimisation\n",
        "from sklearn.tree import DecisionTreeRegressor\n",
        "from sklearn.model_selection import GridSearchCV\n",
        "from xgboost import XGBRegressor\n",
        "from sklearn.ensemble import GradientBoostingRegressor, RandomForestRegressor\n",
        "from sklearn.linear_model import LinearRegression\n",
        "from sklearn.ensemble import AdaBoostRegressor\n",
        "from sklearn.ensemble import ExtraTreesRegressor"
      ]
    },
    {
      "cell_type": "markdown",
      "metadata": {},
      "source": [
        "---"
      ]
    },
    {
      "cell_type": "markdown",
      "metadata": {
        "id": "cqP-UeN-z3i2"
      },
      "source": [
        "# Change working directory"
      ]
    },
    {
      "cell_type": "markdown",
      "metadata": {},
      "source": [
        "* This notebook is stored in the `jupyter_notebooks` subfolder\n",
        "* The current working directory therefore needs to be changed to the workspace, i.e., the working directory needs to be changed from the current folder to its parent folder\n",
        "\n",
        "Firstly, the current directory is accessed with os.getcwd()"
      ]
    },
    {
      "cell_type": "code",
      "execution_count": 46,
      "metadata": {
        "id": "wZfF_j-Bz3i4",
        "outputId": "66943449-1436-4c3d-85c7-b85f9f78349b"
      },
      "outputs": [
        {
          "data": {
            "text/plain": [
              "'c:\\\\Users\\\\franc\\\\housing-price-predictor'"
            ]
          },
          "execution_count": 46,
          "metadata": {},
          "output_type": "execute_result"
        }
      ],
      "source": [
        "current_dir = os.getcwd()\n",
        "current_dir"
      ]
    },
    {
      "cell_type": "markdown",
      "metadata": {
        "id": "9MWW8E7lz3i7"
      },
      "source": [
        "Next, the working directory is set as the parent of the current `jupyter_notebooks` directory\n",
        "* os.path.dirname() gets the parent directory\n",
        "* os.chir() defines the new current directory\n",
        "* This allows access to all the files and folders within the workspace, rather than solely those within the `jupyter_notebooks` directory"
      ]
    },
    {
      "cell_type": "code",
      "execution_count": 3,
      "metadata": {
        "id": "TwHsQRWjz3i9",
        "outputId": "86849db3-cd2f-4cc5-ebb8-2d0caafa1a2c"
      },
      "outputs": [
        {
          "name": "stdout",
          "output_type": "stream",
          "text": [
            "You set a new current directory\n"
          ]
        }
      ],
      "source": [
        "os.chdir(os.path.dirname(current_dir))\n",
        "print(\"You set a new current directory\")"
      ]
    },
    {
      "cell_type": "markdown",
      "metadata": {
        "id": "M_xPk_Ijz3i-"
      },
      "source": [
        "Finally, confirm that the new current directory has been successfully set"
      ]
    },
    {
      "cell_type": "code",
      "execution_count": 4,
      "metadata": {
        "id": "vz3S-_kjz3jA",
        "outputId": "00b79ae4-75d0-4a96-d193-ac9ef9847ea2"
      },
      "outputs": [
        {
          "data": {
            "text/plain": [
              "'c:\\\\Users\\\\franc\\\\housing-price-predictor'"
            ]
          },
          "execution_count": 4,
          "metadata": {},
          "output_type": "execute_result"
        }
      ],
      "source": [
        "current_dir = os.getcwd()\n",
        "current_dir"
      ]
    },
    {
      "cell_type": "markdown",
      "metadata": {},
      "source": [
        "---"
      ]
    },
    {
      "cell_type": "markdown",
      "metadata": {
        "id": "-mavJ8DibrcQ"
      },
      "source": [
        "# Load Data"
      ]
    },
    {
      "cell_type": "code",
      "execution_count": 47,
      "metadata": {},
      "outputs": [
        {
          "name": "stdout",
          "output_type": "stream",
          "text": [
            "(1460, 24)\n"
          ]
        },
        {
          "data": {
            "text/html": [
              "<div>\n",
              "<style scoped>\n",
              "    .dataframe tbody tr th:only-of-type {\n",
              "        vertical-align: middle;\n",
              "    }\n",
              "\n",
              "    .dataframe tbody tr th {\n",
              "        vertical-align: top;\n",
              "    }\n",
              "\n",
              "    .dataframe thead th {\n",
              "        text-align: right;\n",
              "    }\n",
              "</style>\n",
              "<table border=\"1\" class=\"dataframe\">\n",
              "  <thead>\n",
              "    <tr style=\"text-align: right;\">\n",
              "      <th></th>\n",
              "      <th>1stFlrSF</th>\n",
              "      <th>2ndFlrSF</th>\n",
              "      <th>BedroomAbvGr</th>\n",
              "      <th>BsmtExposure</th>\n",
              "      <th>BsmtFinSF1</th>\n",
              "      <th>BsmtFinType1</th>\n",
              "      <th>BsmtUnfSF</th>\n",
              "      <th>EnclosedPorch</th>\n",
              "      <th>GarageArea</th>\n",
              "      <th>GarageFinish</th>\n",
              "      <th>...</th>\n",
              "      <th>LotFrontage</th>\n",
              "      <th>MasVnrArea</th>\n",
              "      <th>OpenPorchSF</th>\n",
              "      <th>OverallCond</th>\n",
              "      <th>OverallQual</th>\n",
              "      <th>TotalBsmtSF</th>\n",
              "      <th>WoodDeckSF</th>\n",
              "      <th>YearBuilt</th>\n",
              "      <th>YearRemodAdd</th>\n",
              "      <th>SalePrice</th>\n",
              "    </tr>\n",
              "  </thead>\n",
              "  <tbody>\n",
              "    <tr>\n",
              "      <th>0</th>\n",
              "      <td>856</td>\n",
              "      <td>854.0</td>\n",
              "      <td>3.0</td>\n",
              "      <td>No</td>\n",
              "      <td>706</td>\n",
              "      <td>GLQ</td>\n",
              "      <td>150</td>\n",
              "      <td>0.0</td>\n",
              "      <td>548</td>\n",
              "      <td>RFn</td>\n",
              "      <td>...</td>\n",
              "      <td>65.0</td>\n",
              "      <td>196.0</td>\n",
              "      <td>61</td>\n",
              "      <td>5</td>\n",
              "      <td>7</td>\n",
              "      <td>856</td>\n",
              "      <td>0.0</td>\n",
              "      <td>2003</td>\n",
              "      <td>2003</td>\n",
              "      <td>208500</td>\n",
              "    </tr>\n",
              "    <tr>\n",
              "      <th>1</th>\n",
              "      <td>1262</td>\n",
              "      <td>0.0</td>\n",
              "      <td>3.0</td>\n",
              "      <td>Gd</td>\n",
              "      <td>978</td>\n",
              "      <td>ALQ</td>\n",
              "      <td>284</td>\n",
              "      <td>NaN</td>\n",
              "      <td>460</td>\n",
              "      <td>RFn</td>\n",
              "      <td>...</td>\n",
              "      <td>80.0</td>\n",
              "      <td>0.0</td>\n",
              "      <td>0</td>\n",
              "      <td>8</td>\n",
              "      <td>6</td>\n",
              "      <td>1262</td>\n",
              "      <td>NaN</td>\n",
              "      <td>1976</td>\n",
              "      <td>1976</td>\n",
              "      <td>181500</td>\n",
              "    </tr>\n",
              "    <tr>\n",
              "      <th>2</th>\n",
              "      <td>920</td>\n",
              "      <td>866.0</td>\n",
              "      <td>3.0</td>\n",
              "      <td>Mn</td>\n",
              "      <td>486</td>\n",
              "      <td>GLQ</td>\n",
              "      <td>434</td>\n",
              "      <td>0.0</td>\n",
              "      <td>608</td>\n",
              "      <td>RFn</td>\n",
              "      <td>...</td>\n",
              "      <td>68.0</td>\n",
              "      <td>162.0</td>\n",
              "      <td>42</td>\n",
              "      <td>5</td>\n",
              "      <td>7</td>\n",
              "      <td>920</td>\n",
              "      <td>NaN</td>\n",
              "      <td>2001</td>\n",
              "      <td>2002</td>\n",
              "      <td>223500</td>\n",
              "    </tr>\n",
              "    <tr>\n",
              "      <th>3</th>\n",
              "      <td>961</td>\n",
              "      <td>NaN</td>\n",
              "      <td>NaN</td>\n",
              "      <td>No</td>\n",
              "      <td>216</td>\n",
              "      <td>ALQ</td>\n",
              "      <td>540</td>\n",
              "      <td>NaN</td>\n",
              "      <td>642</td>\n",
              "      <td>Unf</td>\n",
              "      <td>...</td>\n",
              "      <td>60.0</td>\n",
              "      <td>0.0</td>\n",
              "      <td>35</td>\n",
              "      <td>5</td>\n",
              "      <td>7</td>\n",
              "      <td>756</td>\n",
              "      <td>NaN</td>\n",
              "      <td>1915</td>\n",
              "      <td>1970</td>\n",
              "      <td>140000</td>\n",
              "    </tr>\n",
              "    <tr>\n",
              "      <th>4</th>\n",
              "      <td>1145</td>\n",
              "      <td>NaN</td>\n",
              "      <td>4.0</td>\n",
              "      <td>Av</td>\n",
              "      <td>655</td>\n",
              "      <td>GLQ</td>\n",
              "      <td>490</td>\n",
              "      <td>0.0</td>\n",
              "      <td>836</td>\n",
              "      <td>RFn</td>\n",
              "      <td>...</td>\n",
              "      <td>84.0</td>\n",
              "      <td>350.0</td>\n",
              "      <td>84</td>\n",
              "      <td>5</td>\n",
              "      <td>8</td>\n",
              "      <td>1145</td>\n",
              "      <td>NaN</td>\n",
              "      <td>2000</td>\n",
              "      <td>2000</td>\n",
              "      <td>250000</td>\n",
              "    </tr>\n",
              "  </tbody>\n",
              "</table>\n",
              "<p>5 rows × 24 columns</p>\n",
              "</div>"
            ],
            "text/plain": [
              "   1stFlrSF  2ndFlrSF  BedroomAbvGr BsmtExposure  BsmtFinSF1 BsmtFinType1  \\\n",
              "0       856     854.0           3.0           No         706          GLQ   \n",
              "1      1262       0.0           3.0           Gd         978          ALQ   \n",
              "2       920     866.0           3.0           Mn         486          GLQ   \n",
              "3       961       NaN           NaN           No         216          ALQ   \n",
              "4      1145       NaN           4.0           Av         655          GLQ   \n",
              "\n",
              "   BsmtUnfSF  EnclosedPorch  GarageArea GarageFinish  ...  LotFrontage  \\\n",
              "0        150            0.0         548          RFn  ...         65.0   \n",
              "1        284            NaN         460          RFn  ...         80.0   \n",
              "2        434            0.0         608          RFn  ...         68.0   \n",
              "3        540            NaN         642          Unf  ...         60.0   \n",
              "4        490            0.0         836          RFn  ...         84.0   \n",
              "\n",
              "   MasVnrArea OpenPorchSF  OverallCond  OverallQual  TotalBsmtSF  WoodDeckSF  \\\n",
              "0       196.0          61            5            7          856         0.0   \n",
              "1         0.0           0            8            6         1262         NaN   \n",
              "2       162.0          42            5            7          920         NaN   \n",
              "3         0.0          35            5            7          756         NaN   \n",
              "4       350.0          84            5            8         1145         NaN   \n",
              "\n",
              "   YearBuilt  YearRemodAdd  SalePrice  \n",
              "0       2003          2003     208500  \n",
              "1       1976          1976     181500  \n",
              "2       2001          2002     223500  \n",
              "3       1915          1970     140000  \n",
              "4       2000          2000     250000  \n",
              "\n",
              "[5 rows x 24 columns]"
            ]
          },
          "execution_count": 47,
          "metadata": {},
          "output_type": "execute_result"
        }
      ],
      "source": [
        "df = pd.read_csv(\"outputs/datasets/collection/house_price_records.csv\")\n",
        "print(df.shape)\n",
        "df.head()"
      ]
    },
    {
      "cell_type": "markdown",
      "metadata": {
        "id": "ZY3l0-AxO93d"
      },
      "source": [
        "---"
      ]
    },
    {
      "cell_type": "markdown",
      "metadata": {
        "id": "uFQo3ycuO-v6"
      },
      "source": [
        "# Pipeline, Custom Class and Data Preparation"
      ]
    },
    {
      "cell_type": "markdown",
      "metadata": {},
      "source": [
        "In this section of the notebook we undertake the following tasks:\n",
        "* Create the ML pipeline for regression\n",
        "* State the Custom Class for Hyperparameter Optimisation\n",
        "* Split the Train and Test Sets"
      ]
    },
    {
      "cell_type": "markdown",
      "metadata": {},
      "source": [
        "## Create ML Pipeline"
      ]
    },
    {
      "cell_type": "markdown",
      "metadata": {},
      "source": [
        "* We combine the data cleaning and feature engineering pipelines that were created in their respective notebooks.\n",
        "* We then add feature selection, feature scaling and modelling."
      ]
    },
    {
      "cell_type": "code",
      "execution_count": 48,
      "metadata": {},
      "outputs": [],
      "source": [
        "# Pipeline optimisation\n",
        "def PipelineOptimisation(model):\n",
        "  pipeline_base = Pipeline([\n",
        "    # Data Cleaning (copied from Data Cleaning notebook)\n",
        "     ('median', MeanMedianImputer(imputation_method='median',\n",
        "                                 variables=['2ndFlrSF', 'BedroomAbvGr',\n",
        "                                 'LotFrontage', 'MasVnrArea']) ),\n",
        "    ('categorical_missing', CategoricalImputer(imputation_method='missing',\n",
        "                                     fill_value='Missing',\n",
        "                                     variables=['BsmtFinType1']) ),\n",
        "    ('garage_absent', ArbitraryNumberImputer(arbitrary_number=0,\n",
        "                                               variables=['GarageYrBlt'])),\n",
        "    ('categorical_frequent', CategoricalImputer(imputation_method='frequent',\n",
        "                                     variables=['GarageFinish']) ),\n",
        "    ('drop',  DropFeatures(features_to_drop=['EnclosedPorch', 'WoodDeckSF']) ),\n",
        "\n",
        "    # Feature Engineering (copied from Feature Engineering notebook)\n",
        "    (\"OrdinalCategoricalEncoder\", OrdinalEncoder(encoding_method='arbitrary', \n",
        "                                                 variables=['BsmtExposure',\n",
        "                                                            'BsmtFinType1',\n",
        "                                                            'GarageFinish',\n",
        "                                                            'KitchenQual'] ) ),\n",
        "    \n",
        "    ('log_transform', vt.LogTransformer(variables=['1stFlrSF',\n",
        "                                                   'GrLivArea',\n",
        "                                                   'LotArea',\n",
        "                                                   'LotFrontage'])),\n",
        "    \n",
        "    ('yeo_johnson_transform', vt.YeoJohnsonTransformer(variables=['BsmtUnfSF',\n",
        "                                                                  'GarageArea',\n",
        "                                                                  'OpenPorchSF'])),\n",
        "    \n",
        "    ('power_transform', vt.PowerTransformer(variables=['TotalBsmtSF',\n",
        "                                                       'MasVnrArea'])),    \n",
        "       \n",
        "    (\"SmartCorrelatedSelection\",SmartCorrelatedSelection(variables= None,\n",
        "     method=\"spearman\", threshold=0.6,selection_method=\"variance\") ),\n",
        "\n",
        "    (\"feat_scaling\", StandardScaler() ),\n",
        "\n",
        "    (\"feat_selection\",  SelectFromModel(model) ),\n",
        "\n",
        "    (\"model\", model ),\n",
        "    ])\n",
        "\n",
        "  return pipeline_base"
      ]
    },
    {
      "cell_type": "markdown",
      "metadata": {},
      "source": [
        "## Custom Class for Hyperparameter Optimisation\n",
        "\n",
        "Custom Class for Hyperparameter Optimisation, copied and adapted from Code Institute's Walkthrough Project 2 on customer churn:"
      ]
    },
    {
      "cell_type": "code",
      "execution_count": 49,
      "metadata": {},
      "outputs": [],
      "source": [
        "class HyperparameterOptimisationSearch:\n",
        "\n",
        "    def __init__(self, models, params):\n",
        "        self.models = models\n",
        "        self.params = params\n",
        "        self.keys = models.keys()\n",
        "        self.grid_searches = {}\n",
        "\n",
        "    def fit(self, X, y, cv, n_jobs, verbose=1, scoring=None, refit=False):\n",
        "        for key in self.keys:\n",
        "            print(f\"\\nRunning GridSearchCV for {key} \\n\")\n",
        "            model = PipelineOptimisation(self.models[key])\n",
        "\n",
        "            params = self.params[key]\n",
        "            gs = GridSearchCV(model, params, cv=cv, n_jobs=n_jobs,\n",
        "                              verbose=verbose, scoring=scoring)\n",
        "            gs.fit(X, y)\n",
        "            self.grid_searches[key] = gs\n",
        "\n",
        "    def score_summary(self, sort_by='mean_score'):\n",
        "        def row(key, scores, params):\n",
        "            d = {\n",
        "                'estimator': key,\n",
        "                'min_score': min(scores),\n",
        "                'max_score': max(scores),\n",
        "                'mean_score': np.mean(scores),\n",
        "                'std_score': np.std(scores),\n",
        "            }\n",
        "            return pd.Series({**params, **d})\n",
        "\n",
        "        rows = []\n",
        "        for k in self.grid_searches:\n",
        "            params = self.grid_searches[k].cv_results_['params']\n",
        "            scores = []\n",
        "            for i in range(self.grid_searches[k].cv):\n",
        "                key = \"split{}_test_score\".format(i)\n",
        "                r = self.grid_searches[k].cv_results_[key]\n",
        "                scores.append(r.reshape(len(params), 1))\n",
        "\n",
        "            all_scores = np.hstack(scores)\n",
        "            for p, s in zip(params, all_scores):\n",
        "                rows.append((row(k, s, p)))\n",
        "\n",
        "        df = pd.concat(rows, axis=1).T.sort_values([sort_by], ascending=False)\n",
        "\n",
        "        columns = ['estimator', 'min_score',\n",
        "                   'mean_score', 'max_score', 'std_score']\n",
        "        columns = columns + [c for c in df.columns if c not in columns]\n",
        "\n",
        "        return df[columns], self.grid_searches\n"
      ]
    },
    {
      "cell_type": "markdown",
      "metadata": {},
      "source": [
        "## Split Train and Test Sets"
      ]
    },
    {
      "cell_type": "code",
      "execution_count": 50,
      "metadata": {},
      "outputs": [
        {
          "name": "stdout",
          "output_type": "stream",
          "text": [
            "* Train set: (1168, 23) (1168,) \n",
            "* Test set: (292, 23) (292,)\n"
          ]
        }
      ],
      "source": [
        "X_train, X_test,y_train, y_test = train_test_split(\n",
        "                                    df.drop(['SalePrice'], axis=1) ,\n",
        "                                    df['SalePrice'],\n",
        "                                    test_size=0.2,\n",
        "                                    random_state=0\n",
        "                                    )\n",
        "\n",
        "print(\"* Train set:\", X_train.shape, y_train.shape, \"\\n* Test set:\",  X_test.shape, y_test.shape)"
      ]
    },
    {
      "cell_type": "markdown",
      "metadata": {},
      "source": [
        "---"
      ]
    },
    {
      "cell_type": "markdown",
      "metadata": {},
      "source": [
        "# Hyperparameter Optimisation"
      ]
    },
    {
      "cell_type": "markdown",
      "metadata": {},
      "source": [
        "## Grid Search CV - sklearn"
      ]
    },
    {
      "cell_type": "markdown",
      "metadata": {},
      "source": [
        "Use default hyperparameters to find the most suitable algorithm\n"
      ]
    },
    {
      "cell_type": "code",
      "execution_count": 51,
      "metadata": {},
      "outputs": [],
      "source": [
        "models_quick_search = {\n",
        "    'LinearRegression': LinearRegression(),\n",
        "    \"DecisionTreeRegressor\": DecisionTreeRegressor(random_state=0),\n",
        "    \"RandomForestRegressor\": RandomForestRegressor(random_state=0),\n",
        "    \"ExtraTreesRegressor\": ExtraTreesRegressor(random_state=0),\n",
        "    \"AdaBoostRegressor\": AdaBoostRegressor(random_state=0),\n",
        "    \"GradientBoostingRegressor\": GradientBoostingRegressor(random_state=0),\n",
        "    \"XGBRegressor\": XGBRegressor(random_state=0),\n",
        "}\n",
        "\n",
        "params_quick_search = {\n",
        "    'LinearRegression': {},\n",
        "    \"DecisionTreeRegressor\": {},\n",
        "    \"RandomForestRegressor\": {},\n",
        "    \"ExtraTreesRegressor\": {},\n",
        "    \"AdaBoostRegressor\": {},\n",
        "    \"GradientBoostingRegressor\": {},\n",
        "    \"XGBRegressor\": {},\n",
        "}"
      ]
    },
    {
      "cell_type": "markdown",
      "metadata": {},
      "source": [
        "Do a hyperparameter optimisation search using the default parameters"
      ]
    },
    {
      "cell_type": "code",
      "execution_count": 52,
      "metadata": {},
      "outputs": [
        {
          "name": "stdout",
          "output_type": "stream",
          "text": [
            "\n",
            "Running GridSearchCV for LinearRegression \n",
            "\n",
            "Fitting 5 folds for each of 1 candidates, totalling 5 fits\n"
          ]
        },
        {
          "name": "stderr",
          "output_type": "stream",
          "text": [
            "c:\\Users\\franc\\housing-price-predictor\\venv\\lib\\site-packages\\feature_engine\\selection\\smart_correlation_selection.py:271: FutureWarning: Passing a set as an indexer is deprecated and will raise in a future version. Use a list instead.\n",
            "  f = X[feature_group].std().sort_values(ascending=False).index[0]\n",
            "c:\\Users\\franc\\housing-price-predictor\\venv\\lib\\site-packages\\feature_engine\\selection\\smart_correlation_selection.py:271: FutureWarning: Passing a set as an indexer is deprecated and will raise in a future version. Use a list instead.\n",
            "  f = X[feature_group].std().sort_values(ascending=False).index[0]\n",
            "c:\\Users\\franc\\housing-price-predictor\\venv\\lib\\site-packages\\feature_engine\\selection\\smart_correlation_selection.py:271: FutureWarning: Passing a set as an indexer is deprecated and will raise in a future version. Use a list instead.\n",
            "  f = X[feature_group].std().sort_values(ascending=False).index[0]\n",
            "c:\\Users\\franc\\housing-price-predictor\\venv\\lib\\site-packages\\feature_engine\\selection\\smart_correlation_selection.py:271: FutureWarning: Passing a set as an indexer is deprecated and will raise in a future version. Use a list instead.\n",
            "  f = X[feature_group].std().sort_values(ascending=False).index[0]\n"
          ]
        },
        {
          "name": "stdout",
          "output_type": "stream",
          "text": [
            "\n",
            "Running GridSearchCV for DecisionTreeRegressor \n",
            "\n",
            "Fitting 5 folds for each of 1 candidates, totalling 5 fits\n"
          ]
        },
        {
          "name": "stderr",
          "output_type": "stream",
          "text": [
            "c:\\Users\\franc\\housing-price-predictor\\venv\\lib\\site-packages\\feature_engine\\selection\\smart_correlation_selection.py:271: FutureWarning: Passing a set as an indexer is deprecated and will raise in a future version. Use a list instead.\n",
            "  f = X[feature_group].std().sort_values(ascending=False).index[0]\n",
            "c:\\Users\\franc\\housing-price-predictor\\venv\\lib\\site-packages\\feature_engine\\selection\\smart_correlation_selection.py:271: FutureWarning: Passing a set as an indexer is deprecated and will raise in a future version. Use a list instead.\n",
            "  f = X[feature_group].std().sort_values(ascending=False).index[0]\n",
            "c:\\Users\\franc\\housing-price-predictor\\venv\\lib\\site-packages\\feature_engine\\selection\\smart_correlation_selection.py:271: FutureWarning: Passing a set as an indexer is deprecated and will raise in a future version. Use a list instead.\n",
            "  f = X[feature_group].std().sort_values(ascending=False).index[0]\n",
            "c:\\Users\\franc\\housing-price-predictor\\venv\\lib\\site-packages\\feature_engine\\selection\\smart_correlation_selection.py:271: FutureWarning: Passing a set as an indexer is deprecated and will raise in a future version. Use a list instead.\n",
            "  f = X[feature_group].std().sort_values(ascending=False).index[0]\n"
          ]
        },
        {
          "name": "stdout",
          "output_type": "stream",
          "text": [
            "\n",
            "Running GridSearchCV for RandomForestRegressor \n",
            "\n",
            "Fitting 5 folds for each of 1 candidates, totalling 5 fits\n"
          ]
        },
        {
          "name": "stderr",
          "output_type": "stream",
          "text": [
            "c:\\Users\\franc\\housing-price-predictor\\venv\\lib\\site-packages\\feature_engine\\selection\\smart_correlation_selection.py:271: FutureWarning: Passing a set as an indexer is deprecated and will raise in a future version. Use a list instead.\n",
            "  f = X[feature_group].std().sort_values(ascending=False).index[0]\n",
            "c:\\Users\\franc\\housing-price-predictor\\venv\\lib\\site-packages\\feature_engine\\selection\\smart_correlation_selection.py:271: FutureWarning: Passing a set as an indexer is deprecated and will raise in a future version. Use a list instead.\n",
            "  f = X[feature_group].std().sort_values(ascending=False).index[0]\n",
            "c:\\Users\\franc\\housing-price-predictor\\venv\\lib\\site-packages\\feature_engine\\selection\\smart_correlation_selection.py:271: FutureWarning: Passing a set as an indexer is deprecated and will raise in a future version. Use a list instead.\n",
            "  f = X[feature_group].std().sort_values(ascending=False).index[0]\n",
            "c:\\Users\\franc\\housing-price-predictor\\venv\\lib\\site-packages\\feature_engine\\selection\\smart_correlation_selection.py:271: FutureWarning: Passing a set as an indexer is deprecated and will raise in a future version. Use a list instead.\n",
            "  f = X[feature_group].std().sort_values(ascending=False).index[0]\n"
          ]
        },
        {
          "name": "stdout",
          "output_type": "stream",
          "text": [
            "\n",
            "Running GridSearchCV for ExtraTreesRegressor \n",
            "\n",
            "Fitting 5 folds for each of 1 candidates, totalling 5 fits\n"
          ]
        },
        {
          "name": "stderr",
          "output_type": "stream",
          "text": [
            "c:\\Users\\franc\\housing-price-predictor\\venv\\lib\\site-packages\\feature_engine\\selection\\smart_correlation_selection.py:271: FutureWarning: Passing a set as an indexer is deprecated and will raise in a future version. Use a list instead.\n",
            "  f = X[feature_group].std().sort_values(ascending=False).index[0]\n",
            "c:\\Users\\franc\\housing-price-predictor\\venv\\lib\\site-packages\\feature_engine\\selection\\smart_correlation_selection.py:271: FutureWarning: Passing a set as an indexer is deprecated and will raise in a future version. Use a list instead.\n",
            "  f = X[feature_group].std().sort_values(ascending=False).index[0]\n",
            "c:\\Users\\franc\\housing-price-predictor\\venv\\lib\\site-packages\\feature_engine\\selection\\smart_correlation_selection.py:271: FutureWarning: Passing a set as an indexer is deprecated and will raise in a future version. Use a list instead.\n",
            "  f = X[feature_group].std().sort_values(ascending=False).index[0]\n",
            "c:\\Users\\franc\\housing-price-predictor\\venv\\lib\\site-packages\\feature_engine\\selection\\smart_correlation_selection.py:271: FutureWarning: Passing a set as an indexer is deprecated and will raise in a future version. Use a list instead.\n",
            "  f = X[feature_group].std().sort_values(ascending=False).index[0]\n"
          ]
        },
        {
          "name": "stdout",
          "output_type": "stream",
          "text": [
            "\n",
            "Running GridSearchCV for AdaBoostRegressor \n",
            "\n",
            "Fitting 5 folds for each of 1 candidates, totalling 5 fits\n"
          ]
        },
        {
          "name": "stderr",
          "output_type": "stream",
          "text": [
            "c:\\Users\\franc\\housing-price-predictor\\venv\\lib\\site-packages\\feature_engine\\selection\\smart_correlation_selection.py:271: FutureWarning: Passing a set as an indexer is deprecated and will raise in a future version. Use a list instead.\n",
            "  f = X[feature_group].std().sort_values(ascending=False).index[0]\n",
            "c:\\Users\\franc\\housing-price-predictor\\venv\\lib\\site-packages\\feature_engine\\selection\\smart_correlation_selection.py:271: FutureWarning: Passing a set as an indexer is deprecated and will raise in a future version. Use a list instead.\n",
            "  f = X[feature_group].std().sort_values(ascending=False).index[0]\n",
            "c:\\Users\\franc\\housing-price-predictor\\venv\\lib\\site-packages\\feature_engine\\selection\\smart_correlation_selection.py:271: FutureWarning: Passing a set as an indexer is deprecated and will raise in a future version. Use a list instead.\n",
            "  f = X[feature_group].std().sort_values(ascending=False).index[0]\n",
            "c:\\Users\\franc\\housing-price-predictor\\venv\\lib\\site-packages\\feature_engine\\selection\\smart_correlation_selection.py:271: FutureWarning: Passing a set as an indexer is deprecated and will raise in a future version. Use a list instead.\n",
            "  f = X[feature_group].std().sort_values(ascending=False).index[0]\n"
          ]
        },
        {
          "name": "stdout",
          "output_type": "stream",
          "text": [
            "\n",
            "Running GridSearchCV for GradientBoostingRegressor \n",
            "\n",
            "Fitting 5 folds for each of 1 candidates, totalling 5 fits\n"
          ]
        },
        {
          "name": "stderr",
          "output_type": "stream",
          "text": [
            "c:\\Users\\franc\\housing-price-predictor\\venv\\lib\\site-packages\\feature_engine\\selection\\smart_correlation_selection.py:271: FutureWarning: Passing a set as an indexer is deprecated and will raise in a future version. Use a list instead.\n",
            "  f = X[feature_group].std().sort_values(ascending=False).index[0]\n",
            "c:\\Users\\franc\\housing-price-predictor\\venv\\lib\\site-packages\\feature_engine\\selection\\smart_correlation_selection.py:271: FutureWarning: Passing a set as an indexer is deprecated and will raise in a future version. Use a list instead.\n",
            "  f = X[feature_group].std().sort_values(ascending=False).index[0]\n",
            "c:\\Users\\franc\\housing-price-predictor\\venv\\lib\\site-packages\\feature_engine\\selection\\smart_correlation_selection.py:271: FutureWarning: Passing a set as an indexer is deprecated and will raise in a future version. Use a list instead.\n",
            "  f = X[feature_group].std().sort_values(ascending=False).index[0]\n",
            "c:\\Users\\franc\\housing-price-predictor\\venv\\lib\\site-packages\\feature_engine\\selection\\smart_correlation_selection.py:271: FutureWarning: Passing a set as an indexer is deprecated and will raise in a future version. Use a list instead.\n",
            "  f = X[feature_group].std().sort_values(ascending=False).index[0]\n"
          ]
        },
        {
          "name": "stdout",
          "output_type": "stream",
          "text": [
            "\n",
            "Running GridSearchCV for XGBRegressor \n",
            "\n",
            "Fitting 5 folds for each of 1 candidates, totalling 5 fits\n"
          ]
        },
        {
          "name": "stderr",
          "output_type": "stream",
          "text": [
            "c:\\Users\\franc\\housing-price-predictor\\venv\\lib\\site-packages\\feature_engine\\selection\\smart_correlation_selection.py:271: FutureWarning: Passing a set as an indexer is deprecated and will raise in a future version. Use a list instead.\n",
            "  f = X[feature_group].std().sort_values(ascending=False).index[0]\n",
            "c:\\Users\\franc\\housing-price-predictor\\venv\\lib\\site-packages\\feature_engine\\selection\\smart_correlation_selection.py:271: FutureWarning: Passing a set as an indexer is deprecated and will raise in a future version. Use a list instead.\n",
            "  f = X[feature_group].std().sort_values(ascending=False).index[0]\n",
            "c:\\Users\\franc\\housing-price-predictor\\venv\\lib\\site-packages\\feature_engine\\selection\\smart_correlation_selection.py:271: FutureWarning: Passing a set as an indexer is deprecated and will raise in a future version. Use a list instead.\n",
            "  f = X[feature_group].std().sort_values(ascending=False).index[0]\n",
            "c:\\Users\\franc\\housing-price-predictor\\venv\\lib\\site-packages\\feature_engine\\selection\\smart_correlation_selection.py:271: FutureWarning: Passing a set as an indexer is deprecated and will raise in a future version. Use a list instead.\n",
            "  f = X[feature_group].std().sort_values(ascending=False).index[0]\n"
          ]
        }
      ],
      "source": [
        "search = HyperparameterOptimisationSearch(models=models_quick_search, params=params_quick_search)\n",
        "search.fit(X_train, y_train, scoring='r2', n_jobs=-1, cv=5)"
      ]
    },
    {
      "cell_type": "markdown",
      "metadata": {},
      "source": [
        "Check the results"
      ]
    },
    {
      "cell_type": "code",
      "execution_count": 53,
      "metadata": {},
      "outputs": [
        {
          "data": {
            "text/html": [
              "<div>\n",
              "<style scoped>\n",
              "    .dataframe tbody tr th:only-of-type {\n",
              "        vertical-align: middle;\n",
              "    }\n",
              "\n",
              "    .dataframe tbody tr th {\n",
              "        vertical-align: top;\n",
              "    }\n",
              "\n",
              "    .dataframe thead th {\n",
              "        text-align: right;\n",
              "    }\n",
              "</style>\n",
              "<table border=\"1\" class=\"dataframe\">\n",
              "  <thead>\n",
              "    <tr style=\"text-align: right;\">\n",
              "      <th></th>\n",
              "      <th>estimator</th>\n",
              "      <th>min_score</th>\n",
              "      <th>mean_score</th>\n",
              "      <th>max_score</th>\n",
              "      <th>std_score</th>\n",
              "    </tr>\n",
              "  </thead>\n",
              "  <tbody>\n",
              "    <tr>\n",
              "      <th>2</th>\n",
              "      <td>RandomForestRegressor</td>\n",
              "      <td>0.674306</td>\n",
              "      <td>0.769451</td>\n",
              "      <td>0.805133</td>\n",
              "      <td>0.048638</td>\n",
              "    </tr>\n",
              "    <tr>\n",
              "      <th>3</th>\n",
              "      <td>ExtraTreesRegressor</td>\n",
              "      <td>0.654218</td>\n",
              "      <td>0.756489</td>\n",
              "      <td>0.810022</td>\n",
              "      <td>0.053468</td>\n",
              "    </tr>\n",
              "    <tr>\n",
              "      <th>5</th>\n",
              "      <td>GradientBoostingRegressor</td>\n",
              "      <td>0.518486</td>\n",
              "      <td>0.748213</td>\n",
              "      <td>0.838638</td>\n",
              "      <td>0.116989</td>\n",
              "    </tr>\n",
              "    <tr>\n",
              "      <th>6</th>\n",
              "      <td>XGBRegressor</td>\n",
              "      <td>0.602233</td>\n",
              "      <td>0.689534</td>\n",
              "      <td>0.755556</td>\n",
              "      <td>0.068149</td>\n",
              "    </tr>\n",
              "    <tr>\n",
              "      <th>0</th>\n",
              "      <td>LinearRegression</td>\n",
              "      <td>0.633406</td>\n",
              "      <td>0.682125</td>\n",
              "      <td>0.709829</td>\n",
              "      <td>0.026843</td>\n",
              "    </tr>\n",
              "    <tr>\n",
              "      <th>4</th>\n",
              "      <td>AdaBoostRegressor</td>\n",
              "      <td>0.579679</td>\n",
              "      <td>0.673547</td>\n",
              "      <td>0.733374</td>\n",
              "      <td>0.057077</td>\n",
              "    </tr>\n",
              "    <tr>\n",
              "      <th>1</th>\n",
              "      <td>DecisionTreeRegressor</td>\n",
              "      <td>0.429289</td>\n",
              "      <td>0.566947</td>\n",
              "      <td>0.690236</td>\n",
              "      <td>0.099146</td>\n",
              "    </tr>\n",
              "  </tbody>\n",
              "</table>\n",
              "</div>"
            ],
            "text/plain": [
              "                   estimator min_score mean_score max_score std_score\n",
              "2      RandomForestRegressor  0.674306   0.769451  0.805133  0.048638\n",
              "3        ExtraTreesRegressor  0.654218   0.756489  0.810022  0.053468\n",
              "5  GradientBoostingRegressor  0.518486   0.748213  0.838638  0.116989\n",
              "6               XGBRegressor  0.602233   0.689534  0.755556  0.068149\n",
              "0           LinearRegression  0.633406   0.682125  0.709829  0.026843\n",
              "4          AdaBoostRegressor  0.579679   0.673547  0.733374  0.057077\n",
              "1      DecisionTreeRegressor  0.429289   0.566947  0.690236  0.099146"
            ]
          },
          "execution_count": 53,
          "metadata": {},
          "output_type": "execute_result"
        }
      ],
      "source": [
        "grid_search_summary, grid_search_pipelines = search.score_summary(sort_by='mean_score')\n",
        "grid_search_summary"
      ]
    },
    {
      "cell_type": "markdown",
      "metadata": {},
      "source": [
        "Note the best model"
      ]
    },
    {
      "cell_type": "code",
      "execution_count": 54,
      "metadata": {},
      "outputs": [
        {
          "data": {
            "text/plain": [
              "'RandomForestRegressor'"
            ]
          },
          "execution_count": 54,
          "metadata": {},
          "output_type": "execute_result"
        }
      ],
      "source": [
        "best_model = grid_search_summary.iloc[0, 0]\n",
        "best_model"
      ]
    },
    {
      "cell_type": "markdown",
      "metadata": {},
      "source": [
        "We see that the best-performing model is `RandomForestRegressor`, with a mean R2 score around 0.77. `ExtraTreesRegressor` and `GradientBoostingRegressor` also have relatively strong performances and may be worth further investigation, particularly if hyperparameter optimisation fails to yield further improvement with `RandomForestRegressor`.\n",
        "* An R2 score of at least 0.75 on both train and test sets has been agreed with the client.\n",
        "* We will aim to achieve as high a score as possible by adjusting the hyperparameters."
      ]
    },
    {
      "cell_type": "markdown",
      "metadata": {},
      "source": [
        "We now perform an extensive search on the most suitable algorithm `RandomForestRegressor` to find the best hyperparameter configuration. A wide range of hyperparameter values has been tested, with the final search that appears below having yielded the most optimal results.\n",
        "\n",
        "* n_estimators represents the number of decision trees in the forest.\n",
        "    - Values of 50, 100, 140, 200 and 400 were considered.\n",
        "* max_depth is the number of splits allowed by each tree in the forest. Typically, allowing larger numbers of splits in each tree enables the trees to explain more variation in the data; however, trees with many splits may overfit the data.\n",
        "    - In this case, rather than mitigating overfitting, reducing max_depth led to a poor performance on both train and test sets.\n",
        "* min_samples_split is the minimum number of samples required to split each node.\n",
        "    - Restricting to allow only larger values caused poor performance on both train and test sets, so the default value of 2 has been chosen.\n",
        "* min_samples_leaf is the minimum number of samples required to split each leaf.\n",
        "    - Restricting to allow only larger values caused poor performance on both train and test sets, so the default value of 1 has been chosen.\n",
        "* max_leaf_nodes defines the maximum number of leaf nodes allowed in a tree within the forest. It provides a constraint on the growth of individual decision trees.\n",
        "    - Restricting this value limits the complexity of the tree, which can help control overfitting, although here it has failed to do so.\n",
        "* max_features determines the number of features to resample before determining the best split. Larger values can result in improved performance by allowing a larger selection of features from which to choose the best split, but can also cause overfitting.\n",
        "    - Reducing the value further from sqrt or log2 has not improved overfitting and has led to a decrease in performance.\n",
        "* min_impurity_decrease represents the minimum reduction in impurity required for a split to be deemed worthwhile.\n",
        "    - Increasing this value can help to avoid overfitting; however, here further increases beyond the value of 0.05 selected below have made no difference."
      ]
    },
    {
      "cell_type": "code",
      "execution_count": 55,
      "metadata": {},
      "outputs": [],
      "source": [
        "models_search = {\n",
        "    \"RandomForestRegressor\": RandomForestRegressor(random_state=0),\n",
        "}\n",
        "\n",
        "params_search = {\n",
        "    \"RandomForestRegressor\": {\n",
        "        'model__n_estimators': [50, 100, 140],\n",
        "        'model__max_depth': [None, 4, 15],\n",
        "        'model__min_samples_split': [2, 15, 50],\n",
        "        'model__min_samples_leaf': [1, 20, 50],\n",
        "        'model__max_leaf_nodes': [None, 50, 100],\n",
        "        'model__max_features': [None, 'sqrt', 'log2'],\n",
        "        'model__min_impurity_decrease': [0.0, 0.05, 0.1]\n",
        "    }\n",
        "}"
      ]
    },
    {
      "cell_type": "markdown",
      "metadata": {},
      "source": [
        "Extensive GridSearch CV"
      ]
    },
    {
      "cell_type": "code",
      "execution_count": 56,
      "metadata": {},
      "outputs": [
        {
          "name": "stdout",
          "output_type": "stream",
          "text": [
            "\n",
            "Running GridSearchCV for RandomForestRegressor \n",
            "\n",
            "Fitting 5 folds for each of 2187 candidates, totalling 10935 fits\n"
          ]
        },
        {
          "name": "stderr",
          "output_type": "stream",
          "text": [
            "c:\\Users\\franc\\housing-price-predictor\\venv\\lib\\site-packages\\feature_engine\\selection\\smart_correlation_selection.py:271: FutureWarning: Passing a set as an indexer is deprecated and will raise in a future version. Use a list instead.\n",
            "  f = X[feature_group].std().sort_values(ascending=False).index[0]\n",
            "c:\\Users\\franc\\housing-price-predictor\\venv\\lib\\site-packages\\feature_engine\\selection\\smart_correlation_selection.py:271: FutureWarning: Passing a set as an indexer is deprecated and will raise in a future version. Use a list instead.\n",
            "  f = X[feature_group].std().sort_values(ascending=False).index[0]\n",
            "c:\\Users\\franc\\housing-price-predictor\\venv\\lib\\site-packages\\feature_engine\\selection\\smart_correlation_selection.py:271: FutureWarning: Passing a set as an indexer is deprecated and will raise in a future version. Use a list instead.\n",
            "  f = X[feature_group].std().sort_values(ascending=False).index[0]\n",
            "c:\\Users\\franc\\housing-price-predictor\\venv\\lib\\site-packages\\feature_engine\\selection\\smart_correlation_selection.py:271: FutureWarning: Passing a set as an indexer is deprecated and will raise in a future version. Use a list instead.\n",
            "  f = X[feature_group].std().sort_values(ascending=False).index[0]\n"
          ]
        }
      ],
      "source": [
        "search = HyperparameterOptimisationSearch(models=models_search, params=params_search)\n",
        "search.fit(X_train, y_train, scoring = 'r2', n_jobs=-1, cv=5)"
      ]
    },
    {
      "cell_type": "markdown",
      "metadata": {},
      "source": [
        "Check the results"
      ]
    },
    {
      "cell_type": "code",
      "execution_count": 57,
      "metadata": {},
      "outputs": [
        {
          "data": {
            "text/html": [
              "<div>\n",
              "<style scoped>\n",
              "    .dataframe tbody tr th:only-of-type {\n",
              "        vertical-align: middle;\n",
              "    }\n",
              "\n",
              "    .dataframe tbody tr th {\n",
              "        vertical-align: top;\n",
              "    }\n",
              "\n",
              "    .dataframe thead th {\n",
              "        text-align: right;\n",
              "    }\n",
              "</style>\n",
              "<table border=\"1\" class=\"dataframe\">\n",
              "  <thead>\n",
              "    <tr style=\"text-align: right;\">\n",
              "      <th></th>\n",
              "      <th>estimator</th>\n",
              "      <th>min_score</th>\n",
              "      <th>mean_score</th>\n",
              "      <th>max_score</th>\n",
              "      <th>std_score</th>\n",
              "      <th>model__max_depth</th>\n",
              "      <th>model__max_features</th>\n",
              "      <th>model__max_leaf_nodes</th>\n",
              "      <th>model__min_impurity_decrease</th>\n",
              "      <th>model__min_samples_leaf</th>\n",
              "      <th>model__min_samples_split</th>\n",
              "      <th>model__n_estimators</th>\n",
              "    </tr>\n",
              "  </thead>\n",
              "  <tbody>\n",
              "    <tr>\n",
              "      <th>272</th>\n",
              "      <td>RandomForestRegressor</td>\n",
              "      <td>0.714348</td>\n",
              "      <td>0.783267</td>\n",
              "      <td>0.822892</td>\n",
              "      <td>0.037807</td>\n",
              "      <td>None</td>\n",
              "      <td>sqrt</td>\n",
              "      <td>None</td>\n",
              "      <td>0.05</td>\n",
              "      <td>1</td>\n",
              "      <td>2</td>\n",
              "      <td>140</td>\n",
              "    </tr>\n",
              "    <tr>\n",
              "      <th>515</th>\n",
              "      <td>RandomForestRegressor</td>\n",
              "      <td>0.714348</td>\n",
              "      <td>0.783267</td>\n",
              "      <td>0.822892</td>\n",
              "      <td>0.037807</td>\n",
              "      <td>None</td>\n",
              "      <td>log2</td>\n",
              "      <td>None</td>\n",
              "      <td>0.05</td>\n",
              "      <td>1</td>\n",
              "      <td>2</td>\n",
              "      <td>140</td>\n",
              "    </tr>\n",
              "    <tr>\n",
              "      <th>299</th>\n",
              "      <td>RandomForestRegressor</td>\n",
              "      <td>0.714348</td>\n",
              "      <td>0.783267</td>\n",
              "      <td>0.822892</td>\n",
              "      <td>0.037807</td>\n",
              "      <td>None</td>\n",
              "      <td>sqrt</td>\n",
              "      <td>None</td>\n",
              "      <td>0.1</td>\n",
              "      <td>1</td>\n",
              "      <td>2</td>\n",
              "      <td>140</td>\n",
              "    </tr>\n",
              "    <tr>\n",
              "      <th>542</th>\n",
              "      <td>RandomForestRegressor</td>\n",
              "      <td>0.714348</td>\n",
              "      <td>0.783267</td>\n",
              "      <td>0.822892</td>\n",
              "      <td>0.037807</td>\n",
              "      <td>None</td>\n",
              "      <td>log2</td>\n",
              "      <td>None</td>\n",
              "      <td>0.1</td>\n",
              "      <td>1</td>\n",
              "      <td>2</td>\n",
              "      <td>140</td>\n",
              "    </tr>\n",
              "    <tr>\n",
              "      <th>488</th>\n",
              "      <td>RandomForestRegressor</td>\n",
              "      <td>0.715331</td>\n",
              "      <td>0.782998</td>\n",
              "      <td>0.820971</td>\n",
              "      <td>0.037077</td>\n",
              "      <td>None</td>\n",
              "      <td>log2</td>\n",
              "      <td>None</td>\n",
              "      <td>0.0</td>\n",
              "      <td>1</td>\n",
              "      <td>2</td>\n",
              "      <td>140</td>\n",
              "    </tr>\n",
              "    <tr>\n",
              "      <th>...</th>\n",
              "      <td>...</td>\n",
              "      <td>...</td>\n",
              "      <td>...</td>\n",
              "      <td>...</td>\n",
              "      <td>...</td>\n",
              "      <td>...</td>\n",
              "      <td>...</td>\n",
              "      <td>...</td>\n",
              "      <td>...</td>\n",
              "      <td>...</td>\n",
              "      <td>...</td>\n",
              "      <td>...</td>\n",
              "    </tr>\n",
              "    <tr>\n",
              "      <th>1128</th>\n",
              "      <td>RandomForestRegressor</td>\n",
              "      <td>0.549467</td>\n",
              "      <td>0.632189</td>\n",
              "      <td>0.706069</td>\n",
              "      <td>0.057281</td>\n",
              "      <td>4</td>\n",
              "      <td>sqrt</td>\n",
              "      <td>50</td>\n",
              "      <td>0.1</td>\n",
              "      <td>50</td>\n",
              "      <td>15</td>\n",
              "      <td>50</td>\n",
              "    </tr>\n",
              "    <tr>\n",
              "      <th>1125</th>\n",
              "      <td>RandomForestRegressor</td>\n",
              "      <td>0.549467</td>\n",
              "      <td>0.632189</td>\n",
              "      <td>0.706069</td>\n",
              "      <td>0.057281</td>\n",
              "      <td>4</td>\n",
              "      <td>sqrt</td>\n",
              "      <td>50</td>\n",
              "      <td>0.1</td>\n",
              "      <td>50</td>\n",
              "      <td>2</td>\n",
              "      <td>50</td>\n",
              "    </tr>\n",
              "    <tr>\n",
              "      <th>1395</th>\n",
              "      <td>RandomForestRegressor</td>\n",
              "      <td>0.549467</td>\n",
              "      <td>0.632189</td>\n",
              "      <td>0.706069</td>\n",
              "      <td>0.057281</td>\n",
              "      <td>4</td>\n",
              "      <td>log2</td>\n",
              "      <td>100</td>\n",
              "      <td>0.0</td>\n",
              "      <td>50</td>\n",
              "      <td>2</td>\n",
              "      <td>50</td>\n",
              "    </tr>\n",
              "    <tr>\n",
              "      <th>1314</th>\n",
              "      <td>RandomForestRegressor</td>\n",
              "      <td>0.549467</td>\n",
              "      <td>0.632189</td>\n",
              "      <td>0.706069</td>\n",
              "      <td>0.057281</td>\n",
              "      <td>4</td>\n",
              "      <td>log2</td>\n",
              "      <td>50</td>\n",
              "      <td>0.0</td>\n",
              "      <td>50</td>\n",
              "      <td>2</td>\n",
              "      <td>50</td>\n",
              "    </tr>\n",
              "    <tr>\n",
              "      <th>1344</th>\n",
              "      <td>RandomForestRegressor</td>\n",
              "      <td>0.549467</td>\n",
              "      <td>0.632189</td>\n",
              "      <td>0.706069</td>\n",
              "      <td>0.057281</td>\n",
              "      <td>4</td>\n",
              "      <td>log2</td>\n",
              "      <td>50</td>\n",
              "      <td>0.05</td>\n",
              "      <td>50</td>\n",
              "      <td>15</td>\n",
              "      <td>50</td>\n",
              "    </tr>\n",
              "  </tbody>\n",
              "</table>\n",
              "<p>2187 rows × 12 columns</p>\n",
              "</div>"
            ],
            "text/plain": [
              "                  estimator min_score mean_score max_score std_score  \\\n",
              "272   RandomForestRegressor  0.714348   0.783267  0.822892  0.037807   \n",
              "515   RandomForestRegressor  0.714348   0.783267  0.822892  0.037807   \n",
              "299   RandomForestRegressor  0.714348   0.783267  0.822892  0.037807   \n",
              "542   RandomForestRegressor  0.714348   0.783267  0.822892  0.037807   \n",
              "488   RandomForestRegressor  0.715331   0.782998  0.820971  0.037077   \n",
              "...                     ...       ...        ...       ...       ...   \n",
              "1128  RandomForestRegressor  0.549467   0.632189  0.706069  0.057281   \n",
              "1125  RandomForestRegressor  0.549467   0.632189  0.706069  0.057281   \n",
              "1395  RandomForestRegressor  0.549467   0.632189  0.706069  0.057281   \n",
              "1314  RandomForestRegressor  0.549467   0.632189  0.706069  0.057281   \n",
              "1344  RandomForestRegressor  0.549467   0.632189  0.706069  0.057281   \n",
              "\n",
              "     model__max_depth model__max_features model__max_leaf_nodes  \\\n",
              "272              None                sqrt                  None   \n",
              "515              None                log2                  None   \n",
              "299              None                sqrt                  None   \n",
              "542              None                log2                  None   \n",
              "488              None                log2                  None   \n",
              "...               ...                 ...                   ...   \n",
              "1128                4                sqrt                    50   \n",
              "1125                4                sqrt                    50   \n",
              "1395                4                log2                   100   \n",
              "1314                4                log2                    50   \n",
              "1344                4                log2                    50   \n",
              "\n",
              "     model__min_impurity_decrease model__min_samples_leaf  \\\n",
              "272                          0.05                       1   \n",
              "515                          0.05                       1   \n",
              "299                           0.1                       1   \n",
              "542                           0.1                       1   \n",
              "488                           0.0                       1   \n",
              "...                           ...                     ...   \n",
              "1128                          0.1                      50   \n",
              "1125                          0.1                      50   \n",
              "1395                          0.0                      50   \n",
              "1314                          0.0                      50   \n",
              "1344                         0.05                      50   \n",
              "\n",
              "     model__min_samples_split model__n_estimators  \n",
              "272                         2                 140  \n",
              "515                         2                 140  \n",
              "299                         2                 140  \n",
              "542                         2                 140  \n",
              "488                         2                 140  \n",
              "...                       ...                 ...  \n",
              "1128                       15                  50  \n",
              "1125                        2                  50  \n",
              "1395                        2                  50  \n",
              "1314                        2                  50  \n",
              "1344                       15                  50  \n",
              "\n",
              "[2187 rows x 12 columns]"
            ]
          },
          "execution_count": 57,
          "metadata": {},
          "output_type": "execute_result"
        }
      ],
      "source": [
        "grid_search_summary, grid_search_pipelines = search.score_summary(sort_by='mean_score')\n",
        "grid_search_summary"
      ]
    },
    {
      "cell_type": "markdown",
      "metadata": {},
      "source": [
        "Check the best model"
      ]
    },
    {
      "cell_type": "code",
      "execution_count": 58,
      "metadata": {},
      "outputs": [
        {
          "data": {
            "text/plain": [
              "'RandomForestRegressor'"
            ]
          },
          "execution_count": 58,
          "metadata": {},
          "output_type": "execute_result"
        }
      ],
      "source": [
        "best_model = grid_search_summary.iloc[0, 0]\n",
        "best_model"
      ]
    },
    {
      "cell_type": "markdown",
      "metadata": {},
      "source": [
        "Parameters for best model"
      ]
    },
    {
      "cell_type": "code",
      "execution_count": 59,
      "metadata": {},
      "outputs": [
        {
          "data": {
            "text/plain": [
              "{'model__max_depth': None,\n",
              " 'model__max_features': 'sqrt',\n",
              " 'model__max_leaf_nodes': None,\n",
              " 'model__min_impurity_decrease': 0.05,\n",
              " 'model__min_samples_leaf': 1,\n",
              " 'model__min_samples_split': 2,\n",
              " 'model__n_estimators': 140}"
            ]
          },
          "execution_count": 59,
          "metadata": {},
          "output_type": "execute_result"
        }
      ],
      "source": [
        "grid_search_pipelines[best_model].best_params_"
      ]
    },
    {
      "cell_type": "markdown",
      "metadata": {},
      "source": [
        "Define the best regressor, based on search"
      ]
    },
    {
      "cell_type": "code",
      "execution_count": 60,
      "metadata": {},
      "outputs": [
        {
          "data": {
            "text/plain": [
              "Pipeline(steps=[('median',\n",
              "                 MeanMedianImputer(variables=['2ndFlrSF', 'BedroomAbvGr',\n",
              "                                              'LotFrontage', 'MasVnrArea'])),\n",
              "                ('categorical_missing',\n",
              "                 CategoricalImputer(variables=['BsmtFinType1'])),\n",
              "                ('garage_absent',\n",
              "                 ArbitraryNumberImputer(arbitrary_number=0,\n",
              "                                        variables=['GarageYrBlt'])),\n",
              "                ('categorical_frequent',\n",
              "                 CategoricalImputer(imputation_method='frequent',\n",
              "                                    variables...\n",
              "                                                     'KitchenQual', 'LotArea',\n",
              "                                                     'LotFrontage',\n",
              "                                                     'MasVnrArea',\n",
              "                                                     'OpenPorchSF',\n",
              "                                                     'OverallCond',\n",
              "                                                     'OverallQual',\n",
              "                                                     'TotalBsmtSF', 'YearBuilt',\n",
              "                                                     'YearRemodAdd'])),\n",
              "                ('feat_scaling', StandardScaler()),\n",
              "                ('feat_selection',\n",
              "                 SelectFromModel(estimator=RandomForestRegressor(random_state=0))),\n",
              "                ('model',\n",
              "                 RandomForestRegressor(max_features='sqrt',\n",
              "                                       min_impurity_decrease=0.05,\n",
              "                                       n_estimators=140, random_state=0))])"
            ]
          },
          "execution_count": 60,
          "metadata": {},
          "output_type": "execute_result"
        }
      ],
      "source": [
        "best_regressor_pipeline = grid_search_pipelines[best_model].best_estimator_\n",
        "best_regressor_pipeline"
      ]
    },
    {
      "cell_type": "markdown",
      "metadata": {},
      "source": [
        "---"
      ]
    },
    {
      "cell_type": "markdown",
      "metadata": {},
      "source": [
        "# Assess Feature Importance"
      ]
    },
    {
      "cell_type": "code",
      "execution_count": 61,
      "metadata": {},
      "outputs": [
        {
          "name": "stdout",
          "output_type": "stream",
          "text": [
            "* These are the 4 most important features in descending order. The model was trained on them: \n",
            "['TotalBsmtSF', 'YearBuilt', '2ndFlrSF', 'LotArea']\n"
          ]
        },
        {
          "data": {
            "image/png": "[encoded data removed]",
            "text/plain": [
              "<Figure size 640x480 with 1 Axes>"
            ]
          },
          "metadata": {},
          "output_type": "display_data"
        }
      ],
      "source": [
        "# there are ten pipeline steps in total that involve data cleaning and feature engineering\n",
        "data_cleaning_feat_eng_steps = 10\n",
        "columns_after_data_cleaning_feat_eng = (Pipeline(best_regressor_pipeline.steps[:data_cleaning_feat_eng_steps])\n",
        "                                        .transform(X_train)\n",
        "                                        .columns)\n",
        "\n",
        "best_features = columns_after_data_cleaning_feat_eng[best_regressor_pipeline['feat_selection'].get_support(\n",
        ")].to_list()\n",
        "\n",
        "# create DataFrame to display feature importance\n",
        "df_feature_importance = (pd.DataFrame(data={\n",
        "    'Feature': columns_after_data_cleaning_feat_eng[best_regressor_pipeline['feat_selection'].get_support()],\n",
        "    'Importance': best_regressor_pipeline['model'].feature_importances_})\n",
        "    .sort_values(by='Importance', ascending=False)\n",
        ")\n",
        "\n",
        "# most important features statement and plot\n",
        "print(f\"* These are the {len(best_features)} most important features in descending order. \"\n",
        "      f\"The model was trained on them: \\n{df_feature_importance['Feature'].to_list()}\")\n",
        "\n",
        "df_feature_importance.plot(kind='bar', x='Feature', y='Importance')\n",
        "plt.show()"
      ]
    },
    {
      "cell_type": "markdown",
      "metadata": {},
      "source": [
        "---"
      ]
    },
    {
      "cell_type": "markdown",
      "metadata": {},
      "source": [
        "# Evaluate Regressor on Train and Test Sets"
      ]
    },
    {
      "cell_type": "code",
      "execution_count": 62,
      "metadata": {},
      "outputs": [],
      "source": [
        "def regression_performance(X_train, y_train, X_test, y_test, pipeline):\n",
        "    print(\"Model Evaluation \\n\")\n",
        "    print(\"* Train Set\")\n",
        "    regression_evaluation(X_train, y_train, pipeline)\n",
        "    print(\"* Test Set\")\n",
        "    regression_evaluation(X_test, y_test, pipeline)\n",
        "\n",
        "\n",
        "def regression_evaluation(X, y, pipeline):\n",
        "    prediction = pipeline.predict(X)\n",
        "    print('R2 Score:', r2_score(y, prediction).round(3))\n",
        "    print('Mean Absolute Error:', mean_absolute_error(y, prediction).round(3))\n",
        "    print('Mean Squared Error:', mean_squared_error(y, prediction).round(3))\n",
        "    print('Root Mean Squared Error:', np.sqrt(\n",
        "        mean_squared_error(y, prediction)).round(3))\n",
        "    print(\"\\n\")\n",
        "\n",
        "\n",
        "def regression_evaluation_plots(X_train, y_train, X_test, y_test, pipeline, alpha_scatter=0.5):\n",
        "    pred_train = pipeline.predict(X_train)\n",
        "    pred_test = pipeline.predict(X_test)\n",
        "\n",
        "    fig, axes = plt.subplots(nrows=1, ncols=2, figsize=(12, 6))\n",
        "    sns.scatterplot(x=y_train, y=pred_train, alpha=alpha_scatter, ax=axes[0])\n",
        "    sns.lineplot(x=y_train, y=y_train, color='red', ax=axes[0])\n",
        "    axes[0].set_xlabel(\"Actual\")\n",
        "    axes[0].set_ylabel(\"Predictions\")\n",
        "    axes[0].set_title(\"Train Set\")\n",
        "\n",
        "    sns.scatterplot(x=y_test, y=pred_test, alpha=alpha_scatter, ax=axes[1])\n",
        "    sns.lineplot(x=y_test, y=y_test, color='red', ax=axes[1])\n",
        "    axes[1].set_xlabel(\"Actual\")\n",
        "    axes[1].set_ylabel(\"Predictions\")\n",
        "    axes[1].set_title(\"Test Set\")\n",
        "\n",
        "    plt.show()\n"
      ]
    },
    {
      "cell_type": "code",
      "execution_count": 63,
      "metadata": {},
      "outputs": [
        {
          "name": "stdout",
          "output_type": "stream",
          "text": [
            "Model Evaluation \n",
            "\n",
            "* Train Set\n",
            "R2 Score: 0.969\n",
            "Mean Absolute Error: 8844.825\n",
            "Mean Squared Error: 190512549.905\n",
            "Root Mean Squared Error: 13802.628\n",
            "\n",
            "\n",
            "* Test Set\n",
            "R2 Score: 0.774\n",
            "Mean Absolute Error: 25560.783\n",
            "Mean Squared Error: 1560432824.16\n",
            "Root Mean Squared Error: 39502.314\n",
            "\n",
            "\n"
          ]
        },
        {
          "data": {
            "image/png": "[encoded data removed]",
            "text/plain": [
              "<Figure size 1200x600 with 2 Axes>"
            ]
          },
          "metadata": {},
          "output_type": "display_data"
        }
      ],
      "source": [
        "regression_performance(X_train, y_train, X_test, y_test, best_regressor_pipeline)\n",
        "regression_evaluation_plots(X_train, y_train, X_test, y_test, best_regressor_pipeline)"
      ]
    },
    {
      "cell_type": "markdown",
      "metadata": {},
      "source": [
        "We note here that the model does meet our criteria, which require an R2 score of at least 0.75 on both train and test sets.\n",
        "* However, despite extensive testing with different hyperparameter values, the model does still appear to be overfitting to the training data, with a much higher R2 score of 0.969 on the train set, vs 0.774 on the test set.\n",
        "* We can therefore explore some additional methods to reduce overfitting. Although the model does meet the criteria, we would prefer to have a model that is better able to generalise to unseen data."
      ]
    },
    {
      "cell_type": "markdown",
      "metadata": {},
      "source": [
        "---"
      ]
    },
    {
      "cell_type": "markdown",
      "metadata": {},
      "source": [
        "# Rerun with higher CV score to try and reduce overfitting"
      ]
    },
    {
      "cell_type": "markdown",
      "metadata": {},
      "source": [
        "Extensive GridSearch CV"
      ]
    },
    {
      "cell_type": "code",
      "execution_count": 64,
      "metadata": {},
      "outputs": [
        {
          "name": "stdout",
          "output_type": "stream",
          "text": [
            "\n",
            "Running GridSearchCV for RandomForestRegressor \n",
            "\n",
            "Fitting 10 folds for each of 2187 candidates, totalling 21870 fits\n"
          ]
        },
        {
          "name": "stderr",
          "output_type": "stream",
          "text": [
            "c:\\Users\\franc\\housing-price-predictor\\venv\\lib\\site-packages\\feature_engine\\selection\\smart_correlation_selection.py:271: FutureWarning: Passing a set as an indexer is deprecated and will raise in a future version. Use a list instead.\n",
            "  f = X[feature_group].std().sort_values(ascending=False).index[0]\n",
            "c:\\Users\\franc\\housing-price-predictor\\venv\\lib\\site-packages\\feature_engine\\selection\\smart_correlation_selection.py:271: FutureWarning: Passing a set as an indexer is deprecated and will raise in a future version. Use a list instead.\n",
            "  f = X[feature_group].std().sort_values(ascending=False).index[0]\n",
            "c:\\Users\\franc\\housing-price-predictor\\venv\\lib\\site-packages\\feature_engine\\selection\\smart_correlation_selection.py:271: FutureWarning: Passing a set as an indexer is deprecated and will raise in a future version. Use a list instead.\n",
            "  f = X[feature_group].std().sort_values(ascending=False).index[0]\n",
            "c:\\Users\\franc\\housing-price-predictor\\venv\\lib\\site-packages\\feature_engine\\selection\\smart_correlation_selection.py:271: FutureWarning: Passing a set as an indexer is deprecated and will raise in a future version. Use a list instead.\n",
            "  f = X[feature_group].std().sort_values(ascending=False).index[0]\n"
          ]
        }
      ],
      "source": [
        "search = HyperparameterOptimisationSearch(models=models_search, params=params_search)\n",
        "search.fit(X_train, y_train, scoring = 'r2', n_jobs=-1, cv=10)"
      ]
    },
    {
      "cell_type": "markdown",
      "metadata": {},
      "source": [
        "Check the results"
      ]
    },
    {
      "cell_type": "code",
      "execution_count": 65,
      "metadata": {},
      "outputs": [
        {
          "data": {
            "text/html": [
              "<div>\n",
              "<style scoped>\n",
              "    .dataframe tbody tr th:only-of-type {\n",
              "        vertical-align: middle;\n",
              "    }\n",
              "\n",
              "    .dataframe tbody tr th {\n",
              "        vertical-align: top;\n",
              "    }\n",
              "\n",
              "    .dataframe thead th {\n",
              "        text-align: right;\n",
              "    }\n",
              "</style>\n",
              "<table border=\"1\" class=\"dataframe\">\n",
              "  <thead>\n",
              "    <tr style=\"text-align: right;\">\n",
              "      <th></th>\n",
              "      <th>estimator</th>\n",
              "      <th>min_score</th>\n",
              "      <th>mean_score</th>\n",
              "      <th>max_score</th>\n",
              "      <th>std_score</th>\n",
              "      <th>model__max_depth</th>\n",
              "      <th>model__max_features</th>\n",
              "      <th>model__max_leaf_nodes</th>\n",
              "      <th>model__min_impurity_decrease</th>\n",
              "      <th>model__min_samples_leaf</th>\n",
              "      <th>model__min_samples_split</th>\n",
              "      <th>model__n_estimators</th>\n",
              "    </tr>\n",
              "  </thead>\n",
              "  <tbody>\n",
              "    <tr>\n",
              "      <th>1946</th>\n",
              "      <td>RandomForestRegressor</td>\n",
              "      <td>0.646979</td>\n",
              "      <td>0.784205</td>\n",
              "      <td>0.847945</td>\n",
              "      <td>0.054554</td>\n",
              "      <td>15</td>\n",
              "      <td>log2</td>\n",
              "      <td>None</td>\n",
              "      <td>0.0</td>\n",
              "      <td>1</td>\n",
              "      <td>2</td>\n",
              "      <td>140</td>\n",
              "    </tr>\n",
              "    <tr>\n",
              "      <th>1703</th>\n",
              "      <td>RandomForestRegressor</td>\n",
              "      <td>0.646979</td>\n",
              "      <td>0.784205</td>\n",
              "      <td>0.847945</td>\n",
              "      <td>0.054554</td>\n",
              "      <td>15</td>\n",
              "      <td>sqrt</td>\n",
              "      <td>None</td>\n",
              "      <td>0.0</td>\n",
              "      <td>1</td>\n",
              "      <td>2</td>\n",
              "      <td>140</td>\n",
              "    </tr>\n",
              "    <tr>\n",
              "      <th>542</th>\n",
              "      <td>RandomForestRegressor</td>\n",
              "      <td>0.64115</td>\n",
              "      <td>0.783827</td>\n",
              "      <td>0.842501</td>\n",
              "      <td>0.054533</td>\n",
              "      <td>None</td>\n",
              "      <td>log2</td>\n",
              "      <td>None</td>\n",
              "      <td>0.1</td>\n",
              "      <td>1</td>\n",
              "      <td>2</td>\n",
              "      <td>140</td>\n",
              "    </tr>\n",
              "    <tr>\n",
              "      <th>272</th>\n",
              "      <td>RandomForestRegressor</td>\n",
              "      <td>0.64115</td>\n",
              "      <td>0.783827</td>\n",
              "      <td>0.842501</td>\n",
              "      <td>0.054533</td>\n",
              "      <td>None</td>\n",
              "      <td>sqrt</td>\n",
              "      <td>None</td>\n",
              "      <td>0.05</td>\n",
              "      <td>1</td>\n",
              "      <td>2</td>\n",
              "      <td>140</td>\n",
              "    </tr>\n",
              "    <tr>\n",
              "      <th>299</th>\n",
              "      <td>RandomForestRegressor</td>\n",
              "      <td>0.64115</td>\n",
              "      <td>0.783827</td>\n",
              "      <td>0.842501</td>\n",
              "      <td>0.054533</td>\n",
              "      <td>None</td>\n",
              "      <td>sqrt</td>\n",
              "      <td>None</td>\n",
              "      <td>0.1</td>\n",
              "      <td>1</td>\n",
              "      <td>2</td>\n",
              "      <td>140</td>\n",
              "    </tr>\n",
              "    <tr>\n",
              "      <th>...</th>\n",
              "      <td>...</td>\n",
              "      <td>...</td>\n",
              "      <td>...</td>\n",
              "      <td>...</td>\n",
              "      <td>...</td>\n",
              "      <td>...</td>\n",
              "      <td>...</td>\n",
              "      <td>...</td>\n",
              "      <td>...</td>\n",
              "      <td>...</td>\n",
              "      <td>...</td>\n",
              "      <td>...</td>\n",
              "    </tr>\n",
              "    <tr>\n",
              "      <th>1449</th>\n",
              "      <td>RandomForestRegressor</td>\n",
              "      <td>0.499854</td>\n",
              "      <td>0.648901</td>\n",
              "      <td>0.73657</td>\n",
              "      <td>0.070162</td>\n",
              "      <td>4</td>\n",
              "      <td>log2</td>\n",
              "      <td>100</td>\n",
              "      <td>0.1</td>\n",
              "      <td>50</td>\n",
              "      <td>2</td>\n",
              "      <td>50</td>\n",
              "    </tr>\n",
              "    <tr>\n",
              "      <th>1452</th>\n",
              "      <td>RandomForestRegressor</td>\n",
              "      <td>0.499854</td>\n",
              "      <td>0.648901</td>\n",
              "      <td>0.73657</td>\n",
              "      <td>0.070162</td>\n",
              "      <td>4</td>\n",
              "      <td>log2</td>\n",
              "      <td>100</td>\n",
              "      <td>0.1</td>\n",
              "      <td>50</td>\n",
              "      <td>15</td>\n",
              "      <td>50</td>\n",
              "    </tr>\n",
              "    <tr>\n",
              "      <th>1395</th>\n",
              "      <td>RandomForestRegressor</td>\n",
              "      <td>0.499854</td>\n",
              "      <td>0.648901</td>\n",
              "      <td>0.73657</td>\n",
              "      <td>0.070162</td>\n",
              "      <td>4</td>\n",
              "      <td>log2</td>\n",
              "      <td>100</td>\n",
              "      <td>0.0</td>\n",
              "      <td>50</td>\n",
              "      <td>2</td>\n",
              "      <td>50</td>\n",
              "    </tr>\n",
              "    <tr>\n",
              "      <th>1125</th>\n",
              "      <td>RandomForestRegressor</td>\n",
              "      <td>0.499854</td>\n",
              "      <td>0.648901</td>\n",
              "      <td>0.73657</td>\n",
              "      <td>0.070162</td>\n",
              "      <td>4</td>\n",
              "      <td>sqrt</td>\n",
              "      <td>50</td>\n",
              "      <td>0.1</td>\n",
              "      <td>50</td>\n",
              "      <td>2</td>\n",
              "      <td>50</td>\n",
              "    </tr>\n",
              "    <tr>\n",
              "      <th>1368</th>\n",
              "      <td>RandomForestRegressor</td>\n",
              "      <td>0.499854</td>\n",
              "      <td>0.648901</td>\n",
              "      <td>0.73657</td>\n",
              "      <td>0.070162</td>\n",
              "      <td>4</td>\n",
              "      <td>log2</td>\n",
              "      <td>50</td>\n",
              "      <td>0.1</td>\n",
              "      <td>50</td>\n",
              "      <td>2</td>\n",
              "      <td>50</td>\n",
              "    </tr>\n",
              "  </tbody>\n",
              "</table>\n",
              "<p>2187 rows × 12 columns</p>\n",
              "</div>"
            ],
            "text/plain": [
              "                  estimator min_score mean_score max_score std_score  \\\n",
              "1946  RandomForestRegressor  0.646979   0.784205  0.847945  0.054554   \n",
              "1703  RandomForestRegressor  0.646979   0.784205  0.847945  0.054554   \n",
              "542   RandomForestRegressor   0.64115   0.783827  0.842501  0.054533   \n",
              "272   RandomForestRegressor   0.64115   0.783827  0.842501  0.054533   \n",
              "299   RandomForestRegressor   0.64115   0.783827  0.842501  0.054533   \n",
              "...                     ...       ...        ...       ...       ...   \n",
              "1449  RandomForestRegressor  0.499854   0.648901   0.73657  0.070162   \n",
              "1452  RandomForestRegressor  0.499854   0.648901   0.73657  0.070162   \n",
              "1395  RandomForestRegressor  0.499854   0.648901   0.73657  0.070162   \n",
              "1125  RandomForestRegressor  0.499854   0.648901   0.73657  0.070162   \n",
              "1368  RandomForestRegressor  0.499854   0.648901   0.73657  0.070162   \n",
              "\n",
              "     model__max_depth model__max_features model__max_leaf_nodes  \\\n",
              "1946               15                log2                  None   \n",
              "1703               15                sqrt                  None   \n",
              "542              None                log2                  None   \n",
              "272              None                sqrt                  None   \n",
              "299              None                sqrt                  None   \n",
              "...               ...                 ...                   ...   \n",
              "1449                4                log2                   100   \n",
              "1452                4                log2                   100   \n",
              "1395                4                log2                   100   \n",
              "1125                4                sqrt                    50   \n",
              "1368                4                log2                    50   \n",
              "\n",
              "     model__min_impurity_decrease model__min_samples_leaf  \\\n",
              "1946                          0.0                       1   \n",
              "1703                          0.0                       1   \n",
              "542                           0.1                       1   \n",
              "272                          0.05                       1   \n",
              "299                           0.1                       1   \n",
              "...                           ...                     ...   \n",
              "1449                          0.1                      50   \n",
              "1452                          0.1                      50   \n",
              "1395                          0.0                      50   \n",
              "1125                          0.1                      50   \n",
              "1368                          0.1                      50   \n",
              "\n",
              "     model__min_samples_split model__n_estimators  \n",
              "1946                        2                 140  \n",
              "1703                        2                 140  \n",
              "542                         2                 140  \n",
              "272                         2                 140  \n",
              "299                         2                 140  \n",
              "...                       ...                 ...  \n",
              "1449                        2                  50  \n",
              "1452                       15                  50  \n",
              "1395                        2                  50  \n",
              "1125                        2                  50  \n",
              "1368                        2                  50  \n",
              "\n",
              "[2187 rows x 12 columns]"
            ]
          },
          "execution_count": 65,
          "metadata": {},
          "output_type": "execute_result"
        }
      ],
      "source": [
        "grid_search_summary, grid_search_pipelines = search.score_summary(sort_by='mean_score')\n",
        "grid_search_summary"
      ]
    },
    {
      "cell_type": "markdown",
      "metadata": {},
      "source": [
        "Check the best model"
      ]
    },
    {
      "cell_type": "code",
      "execution_count": 66,
      "metadata": {},
      "outputs": [
        {
          "data": {
            "text/plain": [
              "'RandomForestRegressor'"
            ]
          },
          "execution_count": 66,
          "metadata": {},
          "output_type": "execute_result"
        }
      ],
      "source": [
        "best_model = grid_search_summary.iloc[0, 0]\n",
        "best_model"
      ]
    },
    {
      "cell_type": "markdown",
      "metadata": {},
      "source": [
        "Parameters for best model"
      ]
    },
    {
      "cell_type": "code",
      "execution_count": 67,
      "metadata": {},
      "outputs": [
        {
          "data": {
            "text/plain": [
              "{'model__max_depth': 15,\n",
              " 'model__max_features': 'sqrt',\n",
              " 'model__max_leaf_nodes': None,\n",
              " 'model__min_impurity_decrease': 0.0,\n",
              " 'model__min_samples_leaf': 1,\n",
              " 'model__min_samples_split': 2,\n",
              " 'model__n_estimators': 140}"
            ]
          },
          "execution_count": 67,
          "metadata": {},
          "output_type": "execute_result"
        }
      ],
      "source": [
        "grid_search_pipelines[best_model].best_params_"
      ]
    },
    {
      "cell_type": "markdown",
      "metadata": {},
      "source": [
        "Define the best regressor, based on search"
      ]
    },
    {
      "cell_type": "code",
      "execution_count": 68,
      "metadata": {},
      "outputs": [
        {
          "data": {
            "text/plain": [
              "Pipeline(steps=[('median',\n",
              "                 MeanMedianImputer(variables=['2ndFlrSF', 'BedroomAbvGr',\n",
              "                                              'LotFrontage', 'MasVnrArea'])),\n",
              "                ('categorical_missing',\n",
              "                 CategoricalImputer(variables=['BsmtFinType1'])),\n",
              "                ('garage_absent',\n",
              "                 ArbitraryNumberImputer(arbitrary_number=0,\n",
              "                                        variables=['GarageYrBlt'])),\n",
              "                ('categorical_frequent',\n",
              "                 CategoricalImputer(imputation_method='frequent',\n",
              "                                    variables...\n",
              "                                                     'KitchenQual', 'LotArea',\n",
              "                                                     'LotFrontage',\n",
              "                                                     'MasVnrArea',\n",
              "                                                     'OpenPorchSF',\n",
              "                                                     'OverallCond',\n",
              "                                                     'OverallQual',\n",
              "                                                     'TotalBsmtSF', 'YearBuilt',\n",
              "                                                     'YearRemodAdd'])),\n",
              "                ('feat_scaling', StandardScaler()),\n",
              "                ('feat_selection',\n",
              "                 SelectFromModel(estimator=RandomForestRegressor(random_state=0))),\n",
              "                ('model',\n",
              "                 RandomForestRegressor(max_depth=15, max_features='sqrt',\n",
              "                                       n_estimators=140, random_state=0))])"
            ]
          },
          "execution_count": 68,
          "metadata": {},
          "output_type": "execute_result"
        }
      ],
      "source": [
        "best_regressor_pipeline = grid_search_pipelines[best_model].best_estimator_\n",
        "best_regressor_pipeline"
      ]
    },
    {
      "cell_type": "markdown",
      "metadata": {},
      "source": [
        "We see that a slightly different set of hyperparameters have been selected for the pipeline using 10 folds instead of 5."
      ]
    },
    {
      "cell_type": "markdown",
      "metadata": {},
      "source": [
        "---"
      ]
    },
    {
      "cell_type": "markdown",
      "metadata": {
        "id": "ltNetd085qHf"
      },
      "source": [
        "# Assess feature importance with new hyperparameters"
      ]
    },
    {
      "cell_type": "code",
      "execution_count": 69,
      "metadata": {},
      "outputs": [
        {
          "name": "stdout",
          "output_type": "stream",
          "text": [
            "* These are the 4 most important features in descending order. The model was trained on them: \n",
            "['TotalBsmtSF', 'YearBuilt', '2ndFlrSF', 'LotArea']\n"
          ]
        },
        {
          "data": {
            "image/png": "[encoded data removed]",
            "text/plain": [
              "<Figure size 640x480 with 1 Axes>"
            ]
          },
          "metadata": {},
          "output_type": "display_data"
        }
      ],
      "source": [
        "# there are ten pipeline steps in total that involve data cleaning and feature engineering\n",
        "data_cleaning_feat_eng_steps = 10\n",
        "columns_after_data_cleaning_feat_eng = (Pipeline(best_regressor_pipeline.steps[:data_cleaning_feat_eng_steps])\n",
        "                                        .transform(X_train)\n",
        "                                        .columns)\n",
        "\n",
        "best_features = columns_after_data_cleaning_feat_eng[best_regressor_pipeline['feat_selection'].get_support(\n",
        ")].to_list()\n",
        "\n",
        "# create DataFrame to display feature importance\n",
        "df_feature_importance = (pd.DataFrame(data={\n",
        "    'Feature': columns_after_data_cleaning_feat_eng[best_regressor_pipeline['feat_selection'].get_support()],\n",
        "    'Importance': best_regressor_pipeline['model'].feature_importances_})\n",
        "    .sort_values(by='Importance', ascending=False)\n",
        ")\n",
        "\n",
        "# most important features statement and plot\n",
        "print(f\"* These are the {len(best_features)} most important features in descending order. \"\n",
        "      f\"The model was trained on them: \\n{df_feature_importance['Feature'].to_list()}\")\n",
        "\n",
        "df_feature_importance.plot(kind='bar', x='Feature', y='Importance')\n",
        "plt.show()"
      ]
    },
    {
      "cell_type": "markdown",
      "metadata": {},
      "source": [
        "---"
      ]
    },
    {
      "cell_type": "markdown",
      "metadata": {},
      "source": [
        "# Reevaluate on Train and Test Sets"
      ]
    },
    {
      "cell_type": "code",
      "execution_count": 70,
      "metadata": {},
      "outputs": [
        {
          "name": "stdout",
          "output_type": "stream",
          "text": [
            "Model Evaluation \n",
            "\n",
            "* Train Set\n",
            "R2 Score: 0.967\n",
            "Mean Absolute Error: 9415.438\n",
            "Mean Squared Error: 202231884.776\n",
            "Root Mean Squared Error: 14220.826\n",
            "\n",
            "\n",
            "* Test Set\n",
            "R2 Score: 0.775\n",
            "Mean Absolute Error: 25674.948\n",
            "Mean Squared Error: 1556222980.621\n",
            "Root Mean Squared Error: 39448.992\n",
            "\n",
            "\n"
          ]
        },
        {
          "data": {
            "image/png": "[encoded data removed]",
            "text/plain": [
              "<Figure size 1200x600 with 2 Axes>"
            ]
          },
          "metadata": {},
          "output_type": "display_data"
        }
      ],
      "source": [
        "regression_performance(X_train, y_train, X_test, y_test, best_regressor_pipeline)\n",
        "regression_evaluation_plots(X_train, y_train, X_test, y_test, best_regressor_pipeline)"
      ]
    },
    {
      "cell_type": "markdown",
      "metadata": {},
      "source": [
        "We see a very marginal improvement to the overfitting issue here.\n",
        "* It would in theory be possible to try increasing the number of folds further.\n",
        "* However, this will increase the computational cost of cross-validation and has a high chance of having diminishing returns. Given that the improvement seen when increasing the number of folds from 5 to 10 is too small to be significant, it is not likely to be worth adjusting this further."
      ]
    },
    {
      "cell_type": "markdown",
      "metadata": {},
      "source": [
        "---"
      ]
    },
    {
      "cell_type": "markdown",
      "metadata": {},
      "source": [
        "# Investigate results using ExtraTreesRegressor and GradientBoostingRegressor"
      ]
    },
    {
      "cell_type": "markdown",
      "metadata": {},
      "source": [
        "ExtraTreesRegressor was the second-best performing algorithm in the quick search. GradientBoostingRegressor did not perform quite as well but is known for handling overfitting well."
      ]
    },
    {
      "cell_type": "code",
      "execution_count": 71,
      "metadata": {},
      "outputs": [],
      "source": [
        "models_extra_search = {\n",
        "    \"ExtraTreesRegressor\": ExtraTreesRegressor(random_state=0),\n",
        "    \"GradientBoostingRegressor\": GradientBoostingRegressor(random_state=0),\n",
        "}\n",
        "\n",
        "params_extra_search = {\n",
        "    \"ExtraTreesRegressor\": {\n",
        "        'model__n_estimators': [50, 100, 150],\n",
        "        'model__max_depth': [None, 3, 15],\n",
        "        'model__min_samples_split': [2, 25, 50],\n",
        "        'model__min_samples_leaf': [1, 20, 50],\n",
        "        'model__min_impurity_decrease': [0.0, 0.05, 0.1],\n",
        "        'model__min_weight_fraction_leaf': [0.0, 0.1, 0.2],\n",
        "    },\n",
        "    \"GradientBoostingRegressor\": {\n",
        "        'model__n_estimators': [100,50,140],\n",
        "        'model__learning_rate':[0.1, 0.01, 0.001],\n",
        "        'model__max_depth': [None, 3, 15],\n",
        "        'model__min_samples_split': [2, 25, 50],\n",
        "        'model__min_samples_leaf': [1, 20, 50],\n",
        "        'model__max_leaf_nodes': [None, 25, 50],\n",
        "},\n",
        "}"
      ]
    },
    {
      "cell_type": "markdown",
      "metadata": {},
      "source": [
        "Extensive GridSearch CV"
      ]
    },
    {
      "cell_type": "code",
      "execution_count": 72,
      "metadata": {},
      "outputs": [
        {
          "name": "stdout",
          "output_type": "stream",
          "text": [
            "\n",
            "Running GridSearchCV for ExtraTreesRegressor \n",
            "\n",
            "Fitting 5 folds for each of 729 candidates, totalling 3645 fits\n"
          ]
        },
        {
          "name": "stderr",
          "output_type": "stream",
          "text": [
            "c:\\Users\\franc\\housing-price-predictor\\venv\\lib\\site-packages\\feature_engine\\selection\\smart_correlation_selection.py:271: FutureWarning: Passing a set as an indexer is deprecated and will raise in a future version. Use a list instead.\n",
            "  f = X[feature_group].std().sort_values(ascending=False).index[0]\n",
            "c:\\Users\\franc\\housing-price-predictor\\venv\\lib\\site-packages\\feature_engine\\selection\\smart_correlation_selection.py:271: FutureWarning: Passing a set as an indexer is deprecated and will raise in a future version. Use a list instead.\n",
            "  f = X[feature_group].std().sort_values(ascending=False).index[0]\n",
            "c:\\Users\\franc\\housing-price-predictor\\venv\\lib\\site-packages\\feature_engine\\selection\\smart_correlation_selection.py:271: FutureWarning: Passing a set as an indexer is deprecated and will raise in a future version. Use a list instead.\n",
            "  f = X[feature_group].std().sort_values(ascending=False).index[0]\n",
            "c:\\Users\\franc\\housing-price-predictor\\venv\\lib\\site-packages\\feature_engine\\selection\\smart_correlation_selection.py:271: FutureWarning: Passing a set as an indexer is deprecated and will raise in a future version. Use a list instead.\n",
            "  f = X[feature_group].std().sort_values(ascending=False).index[0]\n"
          ]
        },
        {
          "name": "stdout",
          "output_type": "stream",
          "text": [
            "\n",
            "Running GridSearchCV for GradientBoostingRegressor \n",
            "\n",
            "Fitting 5 folds for each of 729 candidates, totalling 3645 fits\n"
          ]
        },
        {
          "name": "stderr",
          "output_type": "stream",
          "text": [
            "c:\\Users\\franc\\housing-price-predictor\\venv\\lib\\site-packages\\feature_engine\\selection\\smart_correlation_selection.py:271: FutureWarning: Passing a set as an indexer is deprecated and will raise in a future version. Use a list instead.\n",
            "  f = X[feature_group].std().sort_values(ascending=False).index[0]\n",
            "c:\\Users\\franc\\housing-price-predictor\\venv\\lib\\site-packages\\feature_engine\\selection\\smart_correlation_selection.py:271: FutureWarning: Passing a set as an indexer is deprecated and will raise in a future version. Use a list instead.\n",
            "  f = X[feature_group].std().sort_values(ascending=False).index[0]\n",
            "c:\\Users\\franc\\housing-price-predictor\\venv\\lib\\site-packages\\feature_engine\\selection\\smart_correlation_selection.py:271: FutureWarning: Passing a set as an indexer is deprecated and will raise in a future version. Use a list instead.\n",
            "  f = X[feature_group].std().sort_values(ascending=False).index[0]\n",
            "c:\\Users\\franc\\housing-price-predictor\\venv\\lib\\site-packages\\feature_engine\\selection\\smart_correlation_selection.py:271: FutureWarning: Passing a set as an indexer is deprecated and will raise in a future version. Use a list instead.\n",
            "  f = X[feature_group].std().sort_values(ascending=False).index[0]\n"
          ]
        }
      ],
      "source": [
        "extra_search = HyperparameterOptimisationSearch(models=models_extra_search, params=params_extra_search)\n",
        "extra_search.fit(X_train, y_train, scoring = 'r2', n_jobs=-1, cv=5)"
      ]
    },
    {
      "cell_type": "markdown",
      "metadata": {},
      "source": [
        "Check the results"
      ]
    },
    {
      "cell_type": "code",
      "execution_count": 73,
      "metadata": {},
      "outputs": [
        {
          "data": {
            "text/html": [
              "<div>\n",
              "<style scoped>\n",
              "    .dataframe tbody tr th:only-of-type {\n",
              "        vertical-align: middle;\n",
              "    }\n",
              "\n",
              "    .dataframe tbody tr th {\n",
              "        vertical-align: top;\n",
              "    }\n",
              "\n",
              "    .dataframe thead th {\n",
              "        text-align: right;\n",
              "    }\n",
              "</style>\n",
              "<table border=\"1\" class=\"dataframe\">\n",
              "  <thead>\n",
              "    <tr style=\"text-align: right;\">\n",
              "      <th></th>\n",
              "      <th>estimator</th>\n",
              "      <th>min_score</th>\n",
              "      <th>mean_score</th>\n",
              "      <th>max_score</th>\n",
              "      <th>std_score</th>\n",
              "      <th>model__max_depth</th>\n",
              "      <th>model__min_impurity_decrease</th>\n",
              "      <th>model__min_samples_leaf</th>\n",
              "      <th>model__min_samples_split</th>\n",
              "      <th>model__min_weight_fraction_leaf</th>\n",
              "      <th>model__n_estimators</th>\n",
              "      <th>model__learning_rate</th>\n",
              "      <th>model__max_leaf_nodes</th>\n",
              "    </tr>\n",
              "  </thead>\n",
              "  <tbody>\n",
              "    <tr>\n",
              "      <th>742</th>\n",
              "      <td>GradientBoostingRegressor</td>\n",
              "      <td>0.706614</td>\n",
              "      <td>0.777277</td>\n",
              "      <td>0.828472</td>\n",
              "      <td>0.049882</td>\n",
              "      <td>None</td>\n",
              "      <td>NaN</td>\n",
              "      <td>20</td>\n",
              "      <td>25</td>\n",
              "      <td>NaN</td>\n",
              "      <td>50</td>\n",
              "      <td>0.1</td>\n",
              "      <td>None</td>\n",
              "    </tr>\n",
              "    <tr>\n",
              "      <th>739</th>\n",
              "      <td>GradientBoostingRegressor</td>\n",
              "      <td>0.706614</td>\n",
              "      <td>0.777277</td>\n",
              "      <td>0.828472</td>\n",
              "      <td>0.049882</td>\n",
              "      <td>None</td>\n",
              "      <td>NaN</td>\n",
              "      <td>20</td>\n",
              "      <td>2</td>\n",
              "      <td>NaN</td>\n",
              "      <td>50</td>\n",
              "      <td>0.1</td>\n",
              "      <td>None</td>\n",
              "    </tr>\n",
              "    <tr>\n",
              "      <th>796</th>\n",
              "      <td>GradientBoostingRegressor</td>\n",
              "      <td>0.706614</td>\n",
              "      <td>0.777277</td>\n",
              "      <td>0.828472</td>\n",
              "      <td>0.049882</td>\n",
              "      <td>None</td>\n",
              "      <td>NaN</td>\n",
              "      <td>20</td>\n",
              "      <td>25</td>\n",
              "      <td>NaN</td>\n",
              "      <td>50</td>\n",
              "      <td>0.1</td>\n",
              "      <td>50</td>\n",
              "    </tr>\n",
              "    <tr>\n",
              "      <th>793</th>\n",
              "      <td>GradientBoostingRegressor</td>\n",
              "      <td>0.706614</td>\n",
              "      <td>0.777277</td>\n",
              "      <td>0.828472</td>\n",
              "      <td>0.049882</td>\n",
              "      <td>None</td>\n",
              "      <td>NaN</td>\n",
              "      <td>20</td>\n",
              "      <td>2</td>\n",
              "      <td>NaN</td>\n",
              "      <td>50</td>\n",
              "      <td>0.1</td>\n",
              "      <td>50</td>\n",
              "    </tr>\n",
              "    <tr>\n",
              "      <th>904</th>\n",
              "      <td>GradientBoostingRegressor</td>\n",
              "      <td>0.705511</td>\n",
              "      <td>0.776405</td>\n",
              "      <td>0.826624</td>\n",
              "      <td>0.04942</td>\n",
              "      <td>15</td>\n",
              "      <td>NaN</td>\n",
              "      <td>20</td>\n",
              "      <td>25</td>\n",
              "      <td>NaN</td>\n",
              "      <td>50</td>\n",
              "      <td>0.1</td>\n",
              "      <td>None</td>\n",
              "    </tr>\n",
              "    <tr>\n",
              "      <th>...</th>\n",
              "      <td>...</td>\n",
              "      <td>...</td>\n",
              "      <td>...</td>\n",
              "      <td>...</td>\n",
              "      <td>...</td>\n",
              "      <td>...</td>\n",
              "      <td>...</td>\n",
              "      <td>...</td>\n",
              "      <td>...</td>\n",
              "      <td>...</td>\n",
              "      <td>...</td>\n",
              "      <td>...</td>\n",
              "      <td>...</td>\n",
              "    </tr>\n",
              "    <tr>\n",
              "      <th>1318</th>\n",
              "      <td>GradientBoostingRegressor</td>\n",
              "      <td>0.026956</td>\n",
              "      <td>0.047819</td>\n",
              "      <td>0.055437</td>\n",
              "      <td>0.010748</td>\n",
              "      <td>3</td>\n",
              "      <td>NaN</td>\n",
              "      <td>50</td>\n",
              "      <td>25</td>\n",
              "      <td>NaN</td>\n",
              "      <td>50</td>\n",
              "      <td>0.001</td>\n",
              "      <td>None</td>\n",
              "    </tr>\n",
              "    <tr>\n",
              "      <th>1315</th>\n",
              "      <td>GradientBoostingRegressor</td>\n",
              "      <td>0.026956</td>\n",
              "      <td>0.047819</td>\n",
              "      <td>0.055437</td>\n",
              "      <td>0.010748</td>\n",
              "      <td>3</td>\n",
              "      <td>NaN</td>\n",
              "      <td>50</td>\n",
              "      <td>2</td>\n",
              "      <td>NaN</td>\n",
              "      <td>50</td>\n",
              "      <td>0.001</td>\n",
              "      <td>None</td>\n",
              "    </tr>\n",
              "    <tr>\n",
              "      <th>1303</th>\n",
              "      <td>GradientBoostingRegressor</td>\n",
              "      <td>0.023957</td>\n",
              "      <td>0.047376</td>\n",
              "      <td>0.055872</td>\n",
              "      <td>0.012</td>\n",
              "      <td>3</td>\n",
              "      <td>NaN</td>\n",
              "      <td>1</td>\n",
              "      <td>50</td>\n",
              "      <td>NaN</td>\n",
              "      <td>50</td>\n",
              "      <td>0.001</td>\n",
              "      <td>None</td>\n",
              "    </tr>\n",
              "    <tr>\n",
              "      <th>1330</th>\n",
              "      <td>GradientBoostingRegressor</td>\n",
              "      <td>0.023957</td>\n",
              "      <td>0.047373</td>\n",
              "      <td>0.055872</td>\n",
              "      <td>0.011998</td>\n",
              "      <td>3</td>\n",
              "      <td>NaN</td>\n",
              "      <td>1</td>\n",
              "      <td>50</td>\n",
              "      <td>NaN</td>\n",
              "      <td>50</td>\n",
              "      <td>0.001</td>\n",
              "      <td>25</td>\n",
              "    </tr>\n",
              "    <tr>\n",
              "      <th>1357</th>\n",
              "      <td>GradientBoostingRegressor</td>\n",
              "      <td>0.023957</td>\n",
              "      <td>0.047373</td>\n",
              "      <td>0.055872</td>\n",
              "      <td>0.011998</td>\n",
              "      <td>3</td>\n",
              "      <td>NaN</td>\n",
              "      <td>1</td>\n",
              "      <td>50</td>\n",
              "      <td>NaN</td>\n",
              "      <td>50</td>\n",
              "      <td>0.001</td>\n",
              "      <td>50</td>\n",
              "    </tr>\n",
              "  </tbody>\n",
              "</table>\n",
              "<p>1458 rows × 13 columns</p>\n",
              "</div>"
            ],
            "text/plain": [
              "                      estimator min_score mean_score max_score std_score  \\\n",
              "742   GradientBoostingRegressor  0.706614   0.777277  0.828472  0.049882   \n",
              "739   GradientBoostingRegressor  0.706614   0.777277  0.828472  0.049882   \n",
              "796   GradientBoostingRegressor  0.706614   0.777277  0.828472  0.049882   \n",
              "793   GradientBoostingRegressor  0.706614   0.777277  0.828472  0.049882   \n",
              "904   GradientBoostingRegressor  0.705511   0.776405  0.826624   0.04942   \n",
              "...                         ...       ...        ...       ...       ...   \n",
              "1318  GradientBoostingRegressor  0.026956   0.047819  0.055437  0.010748   \n",
              "1315  GradientBoostingRegressor  0.026956   0.047819  0.055437  0.010748   \n",
              "1303  GradientBoostingRegressor  0.023957   0.047376  0.055872     0.012   \n",
              "1330  GradientBoostingRegressor  0.023957   0.047373  0.055872  0.011998   \n",
              "1357  GradientBoostingRegressor  0.023957   0.047373  0.055872  0.011998   \n",
              "\n",
              "     model__max_depth model__min_impurity_decrease model__min_samples_leaf  \\\n",
              "742              None                          NaN                      20   \n",
              "739              None                          NaN                      20   \n",
              "796              None                          NaN                      20   \n",
              "793              None                          NaN                      20   \n",
              "904                15                          NaN                      20   \n",
              "...               ...                          ...                     ...   \n",
              "1318                3                          NaN                      50   \n",
              "1315                3                          NaN                      50   \n",
              "1303                3                          NaN                       1   \n",
              "1330                3                          NaN                       1   \n",
              "1357                3                          NaN                       1   \n",
              "\n",
              "     model__min_samples_split model__min_weight_fraction_leaf  \\\n",
              "742                        25                             NaN   \n",
              "739                         2                             NaN   \n",
              "796                        25                             NaN   \n",
              "793                         2                             NaN   \n",
              "904                        25                             NaN   \n",
              "...                       ...                             ...   \n",
              "1318                       25                             NaN   \n",
              "1315                        2                             NaN   \n",
              "1303                       50                             NaN   \n",
              "1330                       50                             NaN   \n",
              "1357                       50                             NaN   \n",
              "\n",
              "     model__n_estimators model__learning_rate model__max_leaf_nodes  \n",
              "742                   50                  0.1                  None  \n",
              "739                   50                  0.1                  None  \n",
              "796                   50                  0.1                    50  \n",
              "793                   50                  0.1                    50  \n",
              "904                   50                  0.1                  None  \n",
              "...                  ...                  ...                   ...  \n",
              "1318                  50                0.001                  None  \n",
              "1315                  50                0.001                  None  \n",
              "1303                  50                0.001                  None  \n",
              "1330                  50                0.001                    25  \n",
              "1357                  50                0.001                    50  \n",
              "\n",
              "[1458 rows x 13 columns]"
            ]
          },
          "execution_count": 73,
          "metadata": {},
          "output_type": "execute_result"
        }
      ],
      "source": [
        "extra_grid_search_summary, extra_grid_search_pipelines = extra_search.score_summary(sort_by='mean_score')\n",
        "extra_grid_search_summary"
      ]
    },
    {
      "cell_type": "markdown",
      "metadata": {},
      "source": [
        "Check the best model"
      ]
    },
    {
      "cell_type": "code",
      "execution_count": 74,
      "metadata": {},
      "outputs": [
        {
          "data": {
            "text/plain": [
              "'GradientBoostingRegressor'"
            ]
          },
          "execution_count": 74,
          "metadata": {},
          "output_type": "execute_result"
        }
      ],
      "source": [
        "extra_best_model = extra_grid_search_summary.iloc[0, 0]\n",
        "extra_best_model"
      ]
    },
    {
      "cell_type": "markdown",
      "metadata": {},
      "source": [
        "Parameters for best model"
      ]
    },
    {
      "cell_type": "code",
      "execution_count": 75,
      "metadata": {},
      "outputs": [
        {
          "data": {
            "text/plain": [
              "{'model__learning_rate': 0.1,\n",
              " 'model__max_depth': None,\n",
              " 'model__max_leaf_nodes': None,\n",
              " 'model__min_samples_leaf': 20,\n",
              " 'model__min_samples_split': 2,\n",
              " 'model__n_estimators': 50}"
            ]
          },
          "execution_count": 75,
          "metadata": {},
          "output_type": "execute_result"
        }
      ],
      "source": [
        "extra_grid_search_pipelines[extra_best_model].best_params_"
      ]
    },
    {
      "cell_type": "markdown",
      "metadata": {},
      "source": [
        "Define the best regressor, based on search"
      ]
    },
    {
      "cell_type": "code",
      "execution_count": 76,
      "metadata": {},
      "outputs": [
        {
          "data": {
            "text/plain": [
              "Pipeline(steps=[('median',\n",
              "                 MeanMedianImputer(variables=['2ndFlrSF', 'BedroomAbvGr',\n",
              "                                              'LotFrontage', 'MasVnrArea'])),\n",
              "                ('categorical_missing',\n",
              "                 CategoricalImputer(variables=['BsmtFinType1'])),\n",
              "                ('garage_absent',\n",
              "                 ArbitraryNumberImputer(arbitrary_number=0,\n",
              "                                        variables=['GarageYrBlt'])),\n",
              "                ('categorical_frequent',\n",
              "                 CategoricalImputer(imputation_method='frequent',\n",
              "                                    variables...\n",
              "                                                     'KitchenQual', 'LotArea',\n",
              "                                                     'LotFrontage',\n",
              "                                                     'MasVnrArea',\n",
              "                                                     'OpenPorchSF',\n",
              "                                                     'OverallCond',\n",
              "                                                     'OverallQual',\n",
              "                                                     'TotalBsmtSF', 'YearBuilt',\n",
              "                                                     'YearRemodAdd'])),\n",
              "                ('feat_scaling', StandardScaler()),\n",
              "                ('feat_selection',\n",
              "                 SelectFromModel(estimator=GradientBoostingRegressor(random_state=0))),\n",
              "                ('model',\n",
              "                 GradientBoostingRegressor(max_depth=None, min_samples_leaf=20,\n",
              "                                           n_estimators=50, random_state=0))])"
            ]
          },
          "execution_count": 76,
          "metadata": {},
          "output_type": "execute_result"
        }
      ],
      "source": [
        "extra_best_regressor_pipeline = extra_grid_search_pipelines[extra_best_model].best_estimator_\n",
        "extra_best_regressor_pipeline"
      ]
    },
    {
      "cell_type": "markdown",
      "metadata": {},
      "source": [
        "## Assess feature importance for model using GradientBoostingRegressor"
      ]
    },
    {
      "cell_type": "code",
      "execution_count": 77,
      "metadata": {},
      "outputs": [
        {
          "name": "stdout",
          "output_type": "stream",
          "text": [
            "* These are the 5 most important features in descending order. The model was trained on them: \n",
            "['YearBuilt', 'TotalBsmtSF', '2ndFlrSF', 'LotArea', 'KitchenQual']\n"
          ]
        },
        {
          "data": {
            "image/png": "[encoded data removed]",
            "text/plain": [
              "<Figure size 640x480 with 1 Axes>"
            ]
          },
          "metadata": {},
          "output_type": "display_data"
        }
      ],
      "source": [
        "# there are ten pipeline steps in total that involve data cleaning and feature engineering\n",
        "data_cleaning_feat_eng_steps = 10\n",
        "extra_columns_after_data_cleaning_feat_eng = (Pipeline(extra_best_regressor_pipeline.steps[:data_cleaning_feat_eng_steps])\n",
        "                                        .transform(X_train)\n",
        "                                        .columns)\n",
        "\n",
        "extra_best_features = extra_columns_after_data_cleaning_feat_eng[extra_best_regressor_pipeline['feat_selection'].get_support(\n",
        ")].to_list()\n",
        "\n",
        "# create DataFrame to display feature importance\n",
        "extra_df_feature_importance = (pd.DataFrame(data={\n",
        "    'Feature': extra_columns_after_data_cleaning_feat_eng[extra_best_regressor_pipeline['feat_selection'].get_support()],\n",
        "    'Importance': extra_best_regressor_pipeline['model'].feature_importances_})\n",
        "    .sort_values(by='Importance', ascending=False)\n",
        ")\n",
        "\n",
        "# most important features statement and plot\n",
        "print(f\"* These are the {len(extra_best_features)} most important features in descending order. \"\n",
        "      f\"The model was trained on them: \\n{extra_df_feature_importance['Feature'].to_list()}\")\n",
        "\n",
        "extra_df_feature_importance.plot(kind='bar', x='Feature', y='Importance')\n",
        "plt.show()"
      ]
    },
    {
      "cell_type": "markdown",
      "metadata": {},
      "source": [
        "Evaluate model using GradientBoostingRegressor on Train and Test Sets"
      ]
    },
    {
      "cell_type": "code",
      "execution_count": 78,
      "metadata": {},
      "outputs": [
        {
          "name": "stdout",
          "output_type": "stream",
          "text": [
            "Model Evaluation \n",
            "\n",
            "* Train Set\n",
            "R2 Score: 0.893\n",
            "Mean Absolute Error: 14685.979\n",
            "Mean Squared Error: 657062426.469\n",
            "Root Mean Squared Error: 25633.229\n",
            "\n",
            "\n",
            "* Test Set\n",
            "R2 Score: 0.753\n",
            "Mean Absolute Error: 24473.217\n",
            "Mean Squared Error: 1707382845.528\n",
            "Root Mean Squared Error: 41320.489\n",
            "\n",
            "\n"
          ]
        },
        {
          "data": {
            "image/png": "[encoded data removed]",
            "text/plain": [
              "<Figure size 1200x600 with 2 Axes>"
            ]
          },
          "metadata": {},
          "output_type": "display_data"
        }
      ],
      "source": [
        "regression_performance(X_train, y_train, X_test, y_test, extra_best_regressor_pipeline)\n",
        "regression_evaluation_plots(X_train, y_train, X_test, y_test, extra_best_regressor_pipeline)"
      ]
    },
    {
      "cell_type": "markdown",
      "metadata": {},
      "source": [
        "We see that although the difference in performance between the train and test sets is indeed reduced with GradientBoostingRegressor, the overall performance of the model is also unfortunately worse than with RandomForestRegressor.\n",
        "* We will therefore select the RandomForestRegressor model with 10-fold cross-validation.\n",
        "* Next, we will investigate whether Principal Component Analysis can be used to produce a more accurate model to improve the results further."
      ]
    },
    {
      "cell_type": "markdown",
      "metadata": {},
      "source": [
        "---"
      ]
    },
    {
      "cell_type": "markdown",
      "metadata": {},
      "source": [
        "# Regressor pipeline with PCA"
      ]
    },
    {
      "cell_type": "markdown",
      "metadata": {},
      "source": [
        "We can also investigate whether PCA might produce a better model. We want to explore potential values for the number of components that we use.\n",
        "* Firstly, we prepare the data by applying the data cleaning, feature engineering and feature scaling steps.\n",
        "    - The feature selection step is not needed because the PCA itself transforms the original features into a new set of variables, or principal components.\n",
        "    - This happens sequentially: the first principal component describes as much variation as possible; the second describes as much of the left-over variation as possible (with the constraint that it must be uncorrelated with the first principal component); and so on.\n",
        "    - At maximum, there can be as many principal components as there are original variables (i.e., the maximum possible number here would be 17). However, we can choose to use fewer of them if we see a large percentage of variation captured in some smaller set. \n",
        "    - Note that these principal components do not map directly to the original features, and extracting a real-world interpretation of them is challenging."
      ]
    },
    {
      "cell_type": "code",
      "execution_count": 80,
      "metadata": {},
      "outputs": [
        {
          "name": "stdout",
          "output_type": "stream",
          "text": [
            "(1460, 17) \n",
            " <class 'numpy.ndarray'>\n"
          ]
        },
        {
          "name": "stderr",
          "output_type": "stream",
          "text": [
            "c:\\Users\\franc\\housing-price-predictor\\venv\\lib\\site-packages\\feature_engine\\selection\\smart_correlation_selection.py:271: FutureWarning: Passing a set as an indexer is deprecated and will raise in a future version. Use a list instead.\n",
            "  f = X[feature_group].std().sort_values(ascending=False).index[0]\n",
            "c:\\Users\\franc\\housing-price-predictor\\venv\\lib\\site-packages\\feature_engine\\selection\\smart_correlation_selection.py:271: FutureWarning: Passing a set as an indexer is deprecated and will raise in a future version. Use a list instead.\n",
            "  f = X[feature_group].std().sort_values(ascending=False).index[0]\n",
            "c:\\Users\\franc\\housing-price-predictor\\venv\\lib\\site-packages\\feature_engine\\selection\\smart_correlation_selection.py:271: FutureWarning: Passing a set as an indexer is deprecated and will raise in a future version. Use a list instead.\n",
            "  f = X[feature_group].std().sort_values(ascending=False).index[0]\n",
            "c:\\Users\\franc\\housing-price-predictor\\venv\\lib\\site-packages\\feature_engine\\selection\\smart_correlation_selection.py:271: FutureWarning: Passing a set as an indexer is deprecated and will raise in a future version. Use a list instead.\n",
            "  f = X[feature_group].std().sort_values(ascending=False).index[0]\n"
          ]
        }
      ],
      "source": [
        "pipeline = PipelineOptimisation(model=LinearRegression())\n",
        "pipeline_pca = Pipeline(pipeline.steps[:11]) # the first 11 steps relate to data cleaning, feature engineering and feature scaling\n",
        "df_pca = pipeline_pca.fit_transform(df.drop(['SalePrice'], axis=1))\n",
        "\n",
        "print(df_pca.shape,'\\n', type(df_pca))"
      ]
    },
    {
      "cell_type": "markdown",
      "metadata": {},
      "source": [
        "The data is now prepared and scaled, and we are ready to apply PCA to it. The following code is copied and adapted from CI's WP02:"
      ]
    },
    {
      "cell_type": "code",
      "execution_count": 82,
      "metadata": {},
      "outputs": [
        {
          "name": "stdout",
          "output_type": "stream",
          "text": [
            "* The 17 components explain 100.0% of the data \n",
            "\n"
          ]
        },
        {
          "data": {
            "image/png": "[encoded data removed]",
            "text/plain": [
              "<Figure size 1200x500 with 1 Axes>"
            ]
          },
          "metadata": {},
          "output_type": "display_data"
        }
      ],
      "source": [
        "n_components = 17\n",
        "\n",
        "def pca_components_analysis(df_pca, n_components):\n",
        "    pca = PCA(n_components=n_components).fit(df_pca)\n",
        "    x_PCA = pca.transform(df_pca)  # array with transformed PCA\n",
        "\n",
        "    ComponentsList = [\"Component \" + str(number)\n",
        "                      for number in range(n_components)]\n",
        "    dfExplVarRatio = pd.DataFrame(\n",
        "        data=np.round(100 * pca.explained_variance_ratio_, 3),\n",
        "        index=ComponentsList,\n",
        "        columns=['Explained Variance Ratio (%)'])\n",
        "\n",
        "    dfExplVarRatio['Accumulated Variance'] = dfExplVarRatio['Explained Variance Ratio (%)'].cumsum(\n",
        "    )\n",
        "\n",
        "    PercentageOfDataExplained = dfExplVarRatio['Explained Variance Ratio (%)'].sum(\n",
        "    )\n",
        "\n",
        "    print(\n",
        "        f\"* The {n_components} components explain {round(PercentageOfDataExplained,2)}% of the data \\n\")\n",
        "    plt.figure(figsize=(12, 5))\n",
        "    sns.lineplot(data=dfExplVarRatio,  marker=\"o\")\n",
        "    plt.xticks(rotation=90)\n",
        "    plt.yticks(np.arange(0, 110, 10))\n",
        "    plt.show()\n",
        "\n",
        "\n",
        "pca_components_analysis(df_pca=df_pca, n_components=n_components)"
      ]
    },
    {
      "cell_type": "markdown",
      "metadata": {},
      "source": [
        "Selecting a number for n_components here is tricky; ideally we would like to see a small number of components represent a large proportion of the data.\n",
        "* Here we see that the first 8 components explain over 75% of the data, so we can try selecting 8 components:"
      ]
    },
    {
      "cell_type": "code",
      "execution_count": 84,
      "metadata": {},
      "outputs": [
        {
          "name": "stdout",
          "output_type": "stream",
          "text": [
            "* The 8 components explain 76.28% of the data \n",
            "\n"
          ]
        },
        {
          "data": {
            "image/png": "[encoded data removed]",
            "text/plain": [
              "<Figure size 1200x500 with 1 Axes>"
            ]
          },
          "metadata": {},
          "output_type": "display_data"
        }
      ],
      "source": [
        "n_components = 8\n",
        "pca_components_analysis(df_pca=df_pca, n_components=n_components)"
      ]
    },
    {
      "cell_type": "markdown",
      "metadata": {},
      "source": [
        "## Rewrite ML Pipeline for Modelling"
      ]
    },
    {
      "cell_type": "code",
      "execution_count": 106,
      "metadata": {},
      "outputs": [],
      "source": [
        "def pca_pipeline_optimisation(model):\n",
        "    pipeline_base = Pipeline([\n",
        "        # Data Cleaning (copied from Data Cleaning notebook)\n",
        "        ('median', MeanMedianImputer(imputation_method='median',\n",
        "                                    variables=['2ndFlrSF', 'BedroomAbvGr',\n",
        "                                    'LotFrontage', 'MasVnrArea']) ),\n",
        "        ('categorical_missing', CategoricalImputer(imputation_method='missing',\n",
        "                                        fill_value='Missing',\n",
        "                                        variables=['BsmtFinType1']) ),\n",
        "        ('garage_absent', ArbitraryNumberImputer(arbitrary_number=0,\n",
        "                                                variables=['GarageYrBlt'])),\n",
        "        ('categorical_frequent', CategoricalImputer(imputation_method='frequent',\n",
        "                                        variables=['GarageFinish']) ),\n",
        "        ('drop',  DropFeatures(features_to_drop=['EnclosedPorch', 'WoodDeckSF']) ),\n",
        "\n",
        "        # Feature Engineering (copied from Feature Engineering notebook)\n",
        "        (\"OrdinalCategoricalEncoder\", OrdinalEncoder(encoding_method='arbitrary', \n",
        "                                                    variables=['BsmtExposure',\n",
        "                                                                'BsmtFinType1',\n",
        "                                                                'GarageFinish',\n",
        "                                                                'KitchenQual'] ) ),\n",
        "        \n",
        "        ('log_transform', vt.LogTransformer(variables=['1stFlrSF',\n",
        "                                                    'GrLivArea',\n",
        "                                                    'LotArea',\n",
        "                                                    'LotFrontage'])),\n",
        "        \n",
        "        ('yeo_johnson_transform', vt.YeoJohnsonTransformer(variables=['BsmtUnfSF',\n",
        "                                                                    'GarageArea',\n",
        "                                                                    'OpenPorchSF'])),\n",
        "        \n",
        "        ('power_transform', vt.PowerTransformer(variables=['TotalBsmtSF',\n",
        "                                                        'MasVnrArea'])),    \n",
        "        \n",
        "        (\"SmartCorrelatedSelection\",SmartCorrelatedSelection(variables= None,\n",
        "        method=\"spearman\", threshold=0.6,selection_method=\"variance\") ),\n",
        "\n",
        "        (\"feat_scaling\", StandardScaler() ),\n",
        "\n",
        "        # PCA replaces feature felection\n",
        "        (\"PCA\", PCA(n_components=8, random_state=0)),\n",
        "\n",
        "        (\"model\", model ),\n",
        "    ])\n",
        "\n",
        "    return pipeline_base"
      ]
    },
    {
      "cell_type": "markdown",
      "metadata": {},
      "source": [
        "## Custom Class for Hyperparameter Optimisation - adjusted to use PCA pipeline:"
      ]
    },
    {
      "cell_type": "code",
      "execution_count": 107,
      "metadata": {},
      "outputs": [],
      "source": [
        "class PCAHyperparameterOptimisationSearch:\n",
        "\n",
        "    def __init__(self, models, params):\n",
        "        self.models = models\n",
        "        self.params = params\n",
        "        self.keys = models.keys()\n",
        "        self.grid_searches = {}\n",
        "\n",
        "    def fit(self, X, y, cv, n_jobs, verbose=1, scoring=None, refit=False):\n",
        "        for key in self.keys:\n",
        "            print(f\"\\nRunning GridSearchCV for {key} \\n\")\n",
        "            model = pca_pipeline_optimisation(self.models[key])\n",
        "\n",
        "            params = self.params[key]\n",
        "            gs = GridSearchCV(model, params, cv=cv, n_jobs=n_jobs,\n",
        "                              verbose=verbose, scoring=scoring)\n",
        "            gs.fit(X, y)\n",
        "            self.grid_searches[key] = gs\n",
        "\n",
        "    def score_summary(self, sort_by='mean_score'):\n",
        "        def row(key, scores, params):\n",
        "            d = {\n",
        "                'estimator': key,\n",
        "                'min_score': min(scores),\n",
        "                'max_score': max(scores),\n",
        "                'mean_score': np.mean(scores),\n",
        "                'std_score': np.std(scores),\n",
        "            }\n",
        "            return pd.Series({**params, **d})\n",
        "\n",
        "        rows = []\n",
        "        for k in self.grid_searches:\n",
        "            params = self.grid_searches[k].cv_results_['params']\n",
        "            scores = []\n",
        "            for i in range(self.grid_searches[k].cv):\n",
        "                key = \"split{}_test_score\".format(i)\n",
        "                r = self.grid_searches[k].cv_results_[key]\n",
        "                scores.append(r.reshape(len(params), 1))\n",
        "\n",
        "            all_scores = np.hstack(scores)\n",
        "            for p, s in zip(params, all_scores):\n",
        "                rows.append((row(k, s, p)))\n",
        "\n",
        "        df = pd.concat(rows, axis=1).T.sort_values([sort_by], ascending=False)\n",
        "\n",
        "        columns = ['estimator', 'min_score',\n",
        "                   'mean_score', 'max_score', 'std_score']\n",
        "        columns = columns + [c for c in df.columns if c not in columns]\n",
        "\n",
        "        return df[columns], self.grid_searches\n"
      ]
    },
    {
      "cell_type": "markdown",
      "metadata": {},
      "source": [
        "## Grid Search CV – Sklearn"
      ]
    },
    {
      "cell_type": "code",
      "execution_count": 108,
      "metadata": {},
      "outputs": [
        {
          "name": "stdout",
          "output_type": "stream",
          "text": [
            "* Train set: (1168, 23) (1168,) \n",
            "* Test set: (292, 23) (292,)\n"
          ]
        }
      ],
      "source": [
        "print(\"* Train set:\", X_train.shape, y_train.shape, \"\\n* Test set:\",  X_test.shape, y_test.shape)"
      ]
    },
    {
      "cell_type": "markdown",
      "metadata": {},
      "source": [
        "### Use standard hyperparameters to find the most suitable model"
      ]
    },
    {
      "cell_type": "code",
      "execution_count": 109,
      "metadata": {},
      "outputs": [],
      "source": [
        "models_quick_search_pca = {\n",
        "    'LinearRegression': LinearRegression(),\n",
        "    \"DecisionTreeRegressor\": DecisionTreeRegressor(random_state=0),\n",
        "    \"RandomForestRegressor\": RandomForestRegressor(random_state=0),\n",
        "    \"ExtraTreesRegressor\": ExtraTreesRegressor(random_state=0),\n",
        "    \"AdaBoostRegressor\": AdaBoostRegressor(random_state=0),\n",
        "    \"GradientBoostingRegressor\": GradientBoostingRegressor(random_state=0),\n",
        "    \"XGBRegressor\": XGBRegressor(random_state=0),\n",
        "}\n",
        "\n",
        "params_quick_search_pca = {\n",
        "    'LinearRegression': {},\n",
        "    \"DecisionTreeRegressor\": {},\n",
        "    \"RandomForestRegressor\": {},\n",
        "    \"ExtraTreesRegressor\": {},\n",
        "    \"AdaBoostRegressor\": {},\n",
        "    \"GradientBoostingRegressor\": {},\n",
        "    \"XGBRegressor\": {},\n",
        "}\n"
      ]
    },
    {
      "cell_type": "markdown",
      "metadata": {},
      "source": [
        "Do an optimisation search"
      ]
    },
    {
      "cell_type": "code",
      "execution_count": 110,
      "metadata": {},
      "outputs": [
        {
          "name": "stdout",
          "output_type": "stream",
          "text": [
            "\n",
            "Running GridSearchCV for LinearRegression \n",
            "\n",
            "Fitting 5 folds for each of 1 candidates, totalling 5 fits\n"
          ]
        },
        {
          "name": "stderr",
          "output_type": "stream",
          "text": [
            "c:\\Users\\franc\\housing-price-predictor\\venv\\lib\\site-packages\\feature_engine\\selection\\smart_correlation_selection.py:271: FutureWarning: Passing a set as an indexer is deprecated and will raise in a future version. Use a list instead.\n",
            "  f = X[feature_group].std().sort_values(ascending=False).index[0]\n",
            "c:\\Users\\franc\\housing-price-predictor\\venv\\lib\\site-packages\\feature_engine\\selection\\smart_correlation_selection.py:271: FutureWarning: Passing a set as an indexer is deprecated and will raise in a future version. Use a list instead.\n",
            "  f = X[feature_group].std().sort_values(ascending=False).index[0]\n",
            "c:\\Users\\franc\\housing-price-predictor\\venv\\lib\\site-packages\\feature_engine\\selection\\smart_correlation_selection.py:271: FutureWarning: Passing a set as an indexer is deprecated and will raise in a future version. Use a list instead.\n",
            "  f = X[feature_group].std().sort_values(ascending=False).index[0]\n",
            "c:\\Users\\franc\\housing-price-predictor\\venv\\lib\\site-packages\\feature_engine\\selection\\smart_correlation_selection.py:271: FutureWarning: Passing a set as an indexer is deprecated and will raise in a future version. Use a list instead.\n",
            "  f = X[feature_group].std().sort_values(ascending=False).index[0]\n"
          ]
        },
        {
          "name": "stdout",
          "output_type": "stream",
          "text": [
            "\n",
            "Running GridSearchCV for DecisionTreeRegressor \n",
            "\n",
            "Fitting 5 folds for each of 1 candidates, totalling 5 fits\n"
          ]
        },
        {
          "name": "stderr",
          "output_type": "stream",
          "text": [
            "c:\\Users\\franc\\housing-price-predictor\\venv\\lib\\site-packages\\feature_engine\\selection\\smart_correlation_selection.py:271: FutureWarning: Passing a set as an indexer is deprecated and will raise in a future version. Use a list instead.\n",
            "  f = X[feature_group].std().sort_values(ascending=False).index[0]\n",
            "c:\\Users\\franc\\housing-price-predictor\\venv\\lib\\site-packages\\feature_engine\\selection\\smart_correlation_selection.py:271: FutureWarning: Passing a set as an indexer is deprecated and will raise in a future version. Use a list instead.\n",
            "  f = X[feature_group].std().sort_values(ascending=False).index[0]\n",
            "c:\\Users\\franc\\housing-price-predictor\\venv\\lib\\site-packages\\feature_engine\\selection\\smart_correlation_selection.py:271: FutureWarning: Passing a set as an indexer is deprecated and will raise in a future version. Use a list instead.\n",
            "  f = X[feature_group].std().sort_values(ascending=False).index[0]\n",
            "c:\\Users\\franc\\housing-price-predictor\\venv\\lib\\site-packages\\feature_engine\\selection\\smart_correlation_selection.py:271: FutureWarning: Passing a set as an indexer is deprecated and will raise in a future version. Use a list instead.\n",
            "  f = X[feature_group].std().sort_values(ascending=False).index[0]\n"
          ]
        },
        {
          "name": "stdout",
          "output_type": "stream",
          "text": [
            "\n",
            "Running GridSearchCV for RandomForestRegressor \n",
            "\n",
            "Fitting 5 folds for each of 1 candidates, totalling 5 fits\n"
          ]
        },
        {
          "name": "stderr",
          "output_type": "stream",
          "text": [
            "c:\\Users\\franc\\housing-price-predictor\\venv\\lib\\site-packages\\feature_engine\\selection\\smart_correlation_selection.py:271: FutureWarning: Passing a set as an indexer is deprecated and will raise in a future version. Use a list instead.\n",
            "  f = X[feature_group].std().sort_values(ascending=False).index[0]\n",
            "c:\\Users\\franc\\housing-price-predictor\\venv\\lib\\site-packages\\feature_engine\\selection\\smart_correlation_selection.py:271: FutureWarning: Passing a set as an indexer is deprecated and will raise in a future version. Use a list instead.\n",
            "  f = X[feature_group].std().sort_values(ascending=False).index[0]\n",
            "c:\\Users\\franc\\housing-price-predictor\\venv\\lib\\site-packages\\feature_engine\\selection\\smart_correlation_selection.py:271: FutureWarning: Passing a set as an indexer is deprecated and will raise in a future version. Use a list instead.\n",
            "  f = X[feature_group].std().sort_values(ascending=False).index[0]\n",
            "c:\\Users\\franc\\housing-price-predictor\\venv\\lib\\site-packages\\feature_engine\\selection\\smart_correlation_selection.py:271: FutureWarning: Passing a set as an indexer is deprecated and will raise in a future version. Use a list instead.\n",
            "  f = X[feature_group].std().sort_values(ascending=False).index[0]\n"
          ]
        },
        {
          "name": "stdout",
          "output_type": "stream",
          "text": [
            "\n",
            "Running GridSearchCV for ExtraTreesRegressor \n",
            "\n",
            "Fitting 5 folds for each of 1 candidates, totalling 5 fits\n"
          ]
        },
        {
          "name": "stderr",
          "output_type": "stream",
          "text": [
            "c:\\Users\\franc\\housing-price-predictor\\venv\\lib\\site-packages\\feature_engine\\selection\\smart_correlation_selection.py:271: FutureWarning: Passing a set as an indexer is deprecated and will raise in a future version. Use a list instead.\n",
            "  f = X[feature_group].std().sort_values(ascending=False).index[0]\n",
            "c:\\Users\\franc\\housing-price-predictor\\venv\\lib\\site-packages\\feature_engine\\selection\\smart_correlation_selection.py:271: FutureWarning: Passing a set as an indexer is deprecated and will raise in a future version. Use a list instead.\n",
            "  f = X[feature_group].std().sort_values(ascending=False).index[0]\n",
            "c:\\Users\\franc\\housing-price-predictor\\venv\\lib\\site-packages\\feature_engine\\selection\\smart_correlation_selection.py:271: FutureWarning: Passing a set as an indexer is deprecated and will raise in a future version. Use a list instead.\n",
            "  f = X[feature_group].std().sort_values(ascending=False).index[0]\n",
            "c:\\Users\\franc\\housing-price-predictor\\venv\\lib\\site-packages\\feature_engine\\selection\\smart_correlation_selection.py:271: FutureWarning: Passing a set as an indexer is deprecated and will raise in a future version. Use a list instead.\n",
            "  f = X[feature_group].std().sort_values(ascending=False).index[0]\n"
          ]
        },
        {
          "name": "stdout",
          "output_type": "stream",
          "text": [
            "\n",
            "Running GridSearchCV for AdaBoostRegressor \n",
            "\n",
            "Fitting 5 folds for each of 1 candidates, totalling 5 fits\n"
          ]
        },
        {
          "name": "stderr",
          "output_type": "stream",
          "text": [
            "c:\\Users\\franc\\housing-price-predictor\\venv\\lib\\site-packages\\feature_engine\\selection\\smart_correlation_selection.py:271: FutureWarning: Passing a set as an indexer is deprecated and will raise in a future version. Use a list instead.\n",
            "  f = X[feature_group].std().sort_values(ascending=False).index[0]\n",
            "c:\\Users\\franc\\housing-price-predictor\\venv\\lib\\site-packages\\feature_engine\\selection\\smart_correlation_selection.py:271: FutureWarning: Passing a set as an indexer is deprecated and will raise in a future version. Use a list instead.\n",
            "  f = X[feature_group].std().sort_values(ascending=False).index[0]\n",
            "c:\\Users\\franc\\housing-price-predictor\\venv\\lib\\site-packages\\feature_engine\\selection\\smart_correlation_selection.py:271: FutureWarning: Passing a set as an indexer is deprecated and will raise in a future version. Use a list instead.\n",
            "  f = X[feature_group].std().sort_values(ascending=False).index[0]\n",
            "c:\\Users\\franc\\housing-price-predictor\\venv\\lib\\site-packages\\feature_engine\\selection\\smart_correlation_selection.py:271: FutureWarning: Passing a set as an indexer is deprecated and will raise in a future version. Use a list instead.\n",
            "  f = X[feature_group].std().sort_values(ascending=False).index[0]\n"
          ]
        },
        {
          "name": "stdout",
          "output_type": "stream",
          "text": [
            "\n",
            "Running GridSearchCV for GradientBoostingRegressor \n",
            "\n",
            "Fitting 5 folds for each of 1 candidates, totalling 5 fits\n"
          ]
        },
        {
          "name": "stderr",
          "output_type": "stream",
          "text": [
            "c:\\Users\\franc\\housing-price-predictor\\venv\\lib\\site-packages\\feature_engine\\selection\\smart_correlation_selection.py:271: FutureWarning: Passing a set as an indexer is deprecated and will raise in a future version. Use a list instead.\n",
            "  f = X[feature_group].std().sort_values(ascending=False).index[0]\n",
            "c:\\Users\\franc\\housing-price-predictor\\venv\\lib\\site-packages\\feature_engine\\selection\\smart_correlation_selection.py:271: FutureWarning: Passing a set as an indexer is deprecated and will raise in a future version. Use a list instead.\n",
            "  f = X[feature_group].std().sort_values(ascending=False).index[0]\n",
            "c:\\Users\\franc\\housing-price-predictor\\venv\\lib\\site-packages\\feature_engine\\selection\\smart_correlation_selection.py:271: FutureWarning: Passing a set as an indexer is deprecated and will raise in a future version. Use a list instead.\n",
            "  f = X[feature_group].std().sort_values(ascending=False).index[0]\n",
            "c:\\Users\\franc\\housing-price-predictor\\venv\\lib\\site-packages\\feature_engine\\selection\\smart_correlation_selection.py:271: FutureWarning: Passing a set as an indexer is deprecated and will raise in a future version. Use a list instead.\n",
            "  f = X[feature_group].std().sort_values(ascending=False).index[0]\n"
          ]
        },
        {
          "name": "stdout",
          "output_type": "stream",
          "text": [
            "\n",
            "Running GridSearchCV for XGBRegressor \n",
            "\n",
            "Fitting 5 folds for each of 1 candidates, totalling 5 fits\n"
          ]
        },
        {
          "name": "stderr",
          "output_type": "stream",
          "text": [
            "c:\\Users\\franc\\housing-price-predictor\\venv\\lib\\site-packages\\feature_engine\\selection\\smart_correlation_selection.py:271: FutureWarning: Passing a set as an indexer is deprecated and will raise in a future version. Use a list instead.\n",
            "  f = X[feature_group].std().sort_values(ascending=False).index[0]\n",
            "c:\\Users\\franc\\housing-price-predictor\\venv\\lib\\site-packages\\feature_engine\\selection\\smart_correlation_selection.py:271: FutureWarning: Passing a set as an indexer is deprecated and will raise in a future version. Use a list instead.\n",
            "  f = X[feature_group].std().sort_values(ascending=False).index[0]\n",
            "c:\\Users\\franc\\housing-price-predictor\\venv\\lib\\site-packages\\feature_engine\\selection\\smart_correlation_selection.py:271: FutureWarning: Passing a set as an indexer is deprecated and will raise in a future version. Use a list instead.\n",
            "  f = X[feature_group].std().sort_values(ascending=False).index[0]\n",
            "c:\\Users\\franc\\housing-price-predictor\\venv\\lib\\site-packages\\feature_engine\\selection\\smart_correlation_selection.py:271: FutureWarning: Passing a set as an indexer is deprecated and will raise in a future version. Use a list instead.\n",
            "  f = X[feature_group].std().sort_values(ascending=False).index[0]\n"
          ]
        }
      ],
      "source": [
        "pca_quick_search = PCAHyperparameterOptimisationSearch(models=models_quick_search_pca, params=params_quick_search_pca)\n",
        "pca_quick_search.fit(X_train, y_train, scoring='r2', n_jobs=-1, cv=5)"
      ]
    },
    {
      "cell_type": "markdown",
      "metadata": {},
      "source": [
        "Check the results"
      ]
    },
    {
      "cell_type": "code",
      "execution_count": 111,
      "metadata": {},
      "outputs": [
        {
          "data": {
            "text/html": [
              "<div>\n",
              "<style scoped>\n",
              "    .dataframe tbody tr th:only-of-type {\n",
              "        vertical-align: middle;\n",
              "    }\n",
              "\n",
              "    .dataframe tbody tr th {\n",
              "        vertical-align: top;\n",
              "    }\n",
              "\n",
              "    .dataframe thead th {\n",
              "        text-align: right;\n",
              "    }\n",
              "</style>\n",
              "<table border=\"1\" class=\"dataframe\">\n",
              "  <thead>\n",
              "    <tr style=\"text-align: right;\">\n",
              "      <th></th>\n",
              "      <th>estimator</th>\n",
              "      <th>min_score</th>\n",
              "      <th>mean_score</th>\n",
              "      <th>max_score</th>\n",
              "      <th>std_score</th>\n",
              "    </tr>\n",
              "  </thead>\n",
              "  <tbody>\n",
              "    <tr>\n",
              "      <th>2</th>\n",
              "      <td>RandomForestRegressor</td>\n",
              "      <td>0.671926</td>\n",
              "      <td>0.755345</td>\n",
              "      <td>0.799844</td>\n",
              "      <td>0.043675</td>\n",
              "    </tr>\n",
              "    <tr>\n",
              "      <th>3</th>\n",
              "      <td>ExtraTreesRegressor</td>\n",
              "      <td>0.642091</td>\n",
              "      <td>0.749992</td>\n",
              "      <td>0.799439</td>\n",
              "      <td>0.057403</td>\n",
              "    </tr>\n",
              "    <tr>\n",
              "      <th>5</th>\n",
              "      <td>GradientBoostingRegressor</td>\n",
              "      <td>0.628105</td>\n",
              "      <td>0.73458</td>\n",
              "      <td>0.781394</td>\n",
              "      <td>0.055188</td>\n",
              "    </tr>\n",
              "    <tr>\n",
              "      <th>6</th>\n",
              "      <td>XGBRegressor</td>\n",
              "      <td>0.588159</td>\n",
              "      <td>0.712111</td>\n",
              "      <td>0.782279</td>\n",
              "      <td>0.065259</td>\n",
              "    </tr>\n",
              "    <tr>\n",
              "      <th>0</th>\n",
              "      <td>LinearRegression</td>\n",
              "      <td>0.601049</td>\n",
              "      <td>0.667771</td>\n",
              "      <td>0.734632</td>\n",
              "      <td>0.043558</td>\n",
              "    </tr>\n",
              "    <tr>\n",
              "      <th>4</th>\n",
              "      <td>AdaBoostRegressor</td>\n",
              "      <td>0.506505</td>\n",
              "      <td>0.650614</td>\n",
              "      <td>0.712607</td>\n",
              "      <td>0.074162</td>\n",
              "    </tr>\n",
              "    <tr>\n",
              "      <th>1</th>\n",
              "      <td>DecisionTreeRegressor</td>\n",
              "      <td>0.402671</td>\n",
              "      <td>0.579558</td>\n",
              "      <td>0.664771</td>\n",
              "      <td>0.098173</td>\n",
              "    </tr>\n",
              "  </tbody>\n",
              "</table>\n",
              "</div>"
            ],
            "text/plain": [
              "                   estimator min_score mean_score max_score std_score\n",
              "2      RandomForestRegressor  0.671926   0.755345  0.799844  0.043675\n",
              "3        ExtraTreesRegressor  0.642091   0.749992  0.799439  0.057403\n",
              "5  GradientBoostingRegressor  0.628105    0.73458  0.781394  0.055188\n",
              "6               XGBRegressor  0.588159   0.712111  0.782279  0.065259\n",
              "0           LinearRegression  0.601049   0.667771  0.734632  0.043558\n",
              "4          AdaBoostRegressor  0.506505   0.650614  0.712607  0.074162\n",
              "1      DecisionTreeRegressor  0.402671   0.579558  0.664771  0.098173"
            ]
          },
          "execution_count": 111,
          "metadata": {},
          "output_type": "execute_result"
        }
      ],
      "source": [
        "pca_grid_search_summary, pca_grid_search_pipelines = pca_quick_search.score_summary(sort_by='mean_score')\n",
        "pca_grid_search_summary"
      ]
    },
    {
      "cell_type": "markdown",
      "metadata": {},
      "source": [
        "### Do an extensive search on the most suitable model to find the best hyperparameter configuration"
      ]
    },
    {
      "cell_type": "markdown",
      "metadata": {},
      "source": [
        "Define the model and parameters for the extensive search"
      ]
    },
    {
      "cell_type": "code",
      "execution_count": 112,
      "metadata": {},
      "outputs": [],
      "source": [
        "pca_models_search = {\n",
        "    \"RandomForestRegressor\": RandomForestRegressor(random_state=0),\n",
        "}\n",
        "\n",
        "pca_params_search = {\n",
        "    \"RandomForestRegressor\": {\n",
        "        'model__n_estimators': [50, 100, 140],\n",
        "        'model__max_depth': [None, 4, 15],\n",
        "        'model__min_samples_split': [2, 15, 50],\n",
        "        'model__min_samples_leaf': [1, 20, 50],\n",
        "        'model__max_leaf_nodes': [None, 50, 100],\n",
        "        'model__max_features': [None, 'sqrt', 'log2'],\n",
        "        'model__min_impurity_decrease': [0.0, 0.05, 0.1]\n",
        "    }\n",
        "}"
      ]
    },
    {
      "cell_type": "markdown",
      "metadata": {},
      "source": [
        "Extensive GridSearch CV"
      ]
    },
    {
      "cell_type": "code",
      "execution_count": 113,
      "metadata": {},
      "outputs": [
        {
          "name": "stdout",
          "output_type": "stream",
          "text": [
            "\n",
            "Running GridSearchCV for RandomForestRegressor \n",
            "\n",
            "Fitting 5 folds for each of 2187 candidates, totalling 10935 fits\n"
          ]
        },
        {
          "name": "stderr",
          "output_type": "stream",
          "text": [
            "c:\\Users\\franc\\housing-price-predictor\\venv\\lib\\site-packages\\feature_engine\\selection\\smart_correlation_selection.py:271: FutureWarning: Passing a set as an indexer is deprecated and will raise in a future version. Use a list instead.\n",
            "  f = X[feature_group].std().sort_values(ascending=False).index[0]\n",
            "c:\\Users\\franc\\housing-price-predictor\\venv\\lib\\site-packages\\feature_engine\\selection\\smart_correlation_selection.py:271: FutureWarning: Passing a set as an indexer is deprecated and will raise in a future version. Use a list instead.\n",
            "  f = X[feature_group].std().sort_values(ascending=False).index[0]\n",
            "c:\\Users\\franc\\housing-price-predictor\\venv\\lib\\site-packages\\feature_engine\\selection\\smart_correlation_selection.py:271: FutureWarning: Passing a set as an indexer is deprecated and will raise in a future version. Use a list instead.\n",
            "  f = X[feature_group].std().sort_values(ascending=False).index[0]\n",
            "c:\\Users\\franc\\housing-price-predictor\\venv\\lib\\site-packages\\feature_engine\\selection\\smart_correlation_selection.py:271: FutureWarning: Passing a set as an indexer is deprecated and will raise in a future version. Use a list instead.\n",
            "  f = X[feature_group].std().sort_values(ascending=False).index[0]\n"
          ]
        }
      ],
      "source": [
        "pca_search = PCAHyperparameterOptimisationSearch(models=pca_models_search, params=pca_params_search)\n",
        "pca_search.fit(X_train, y_train, scoring = 'r2', n_jobs=-1, cv=5)"
      ]
    },
    {
      "cell_type": "markdown",
      "metadata": {},
      "source": [
        "Check the results"
      ]
    },
    {
      "cell_type": "code",
      "execution_count": 118,
      "metadata": {},
      "outputs": [
        {
          "data": {
            "text/html": [
              "<div>\n",
              "<style scoped>\n",
              "    .dataframe tbody tr th:only-of-type {\n",
              "        vertical-align: middle;\n",
              "    }\n",
              "\n",
              "    .dataframe tbody tr th {\n",
              "        vertical-align: top;\n",
              "    }\n",
              "\n",
              "    .dataframe thead th {\n",
              "        text-align: right;\n",
              "    }\n",
              "</style>\n",
              "<table border=\"1\" class=\"dataframe\">\n",
              "  <thead>\n",
              "    <tr style=\"text-align: right;\">\n",
              "      <th></th>\n",
              "      <th>estimator</th>\n",
              "      <th>min_score</th>\n",
              "      <th>mean_score</th>\n",
              "      <th>max_score</th>\n",
              "      <th>std_score</th>\n",
              "      <th>model__max_depth</th>\n",
              "      <th>model__max_features</th>\n",
              "      <th>model__max_leaf_nodes</th>\n",
              "      <th>model__min_impurity_decrease</th>\n",
              "      <th>model__min_samples_leaf</th>\n",
              "      <th>model__min_samples_split</th>\n",
              "      <th>model__n_estimators</th>\n",
              "    </tr>\n",
              "  </thead>\n",
              "  <tbody>\n",
              "    <tr>\n",
              "      <th>488</th>\n",
              "      <td>RandomForestRegressor</td>\n",
              "      <td>0.712386</td>\n",
              "      <td>0.759532</td>\n",
              "      <td>0.790258</td>\n",
              "      <td>0.025891</td>\n",
              "      <td>None</td>\n",
              "      <td>log2</td>\n",
              "      <td>None</td>\n",
              "      <td>0.0</td>\n",
              "      <td>1</td>\n",
              "      <td>2</td>\n",
              "      <td>140</td>\n",
              "    </tr>\n",
              "    <tr>\n",
              "      <th>515</th>\n",
              "      <td>RandomForestRegressor</td>\n",
              "      <td>0.712386</td>\n",
              "      <td>0.759308</td>\n",
              "      <td>0.790194</td>\n",
              "      <td>0.025843</td>\n",
              "      <td>None</td>\n",
              "      <td>log2</td>\n",
              "      <td>None</td>\n",
              "      <td>0.05</td>\n",
              "      <td>1</td>\n",
              "      <td>2</td>\n",
              "      <td>140</td>\n",
              "    </tr>\n",
              "    <tr>\n",
              "      <th>542</th>\n",
              "      <td>RandomForestRegressor</td>\n",
              "      <td>0.712386</td>\n",
              "      <td>0.759308</td>\n",
              "      <td>0.790194</td>\n",
              "      <td>0.025843</td>\n",
              "      <td>None</td>\n",
              "      <td>log2</td>\n",
              "      <td>None</td>\n",
              "      <td>0.1</td>\n",
              "      <td>1</td>\n",
              "      <td>2</td>\n",
              "      <td>140</td>\n",
              "    </tr>\n",
              "    <tr>\n",
              "      <th>1973</th>\n",
              "      <td>RandomForestRegressor</td>\n",
              "      <td>0.709743</td>\n",
              "      <td>0.756767</td>\n",
              "      <td>0.797058</td>\n",
              "      <td>0.029122</td>\n",
              "      <td>15</td>\n",
              "      <td>log2</td>\n",
              "      <td>None</td>\n",
              "      <td>0.05</td>\n",
              "      <td>1</td>\n",
              "      <td>2</td>\n",
              "      <td>140</td>\n",
              "    </tr>\n",
              "    <tr>\n",
              "      <th>2000</th>\n",
              "      <td>RandomForestRegressor</td>\n",
              "      <td>0.709743</td>\n",
              "      <td>0.756767</td>\n",
              "      <td>0.797058</td>\n",
              "      <td>0.029122</td>\n",
              "      <td>15</td>\n",
              "      <td>log2</td>\n",
              "      <td>None</td>\n",
              "      <td>0.1</td>\n",
              "      <td>1</td>\n",
              "      <td>2</td>\n",
              "      <td>140</td>\n",
              "    </tr>\n",
              "    <tr>\n",
              "      <th>...</th>\n",
              "      <td>...</td>\n",
              "      <td>...</td>\n",
              "      <td>...</td>\n",
              "      <td>...</td>\n",
              "      <td>...</td>\n",
              "      <td>...</td>\n",
              "      <td>...</td>\n",
              "      <td>...</td>\n",
              "      <td>...</td>\n",
              "      <td>...</td>\n",
              "      <td>...</td>\n",
              "      <td>...</td>\n",
              "    </tr>\n",
              "    <tr>\n",
              "      <th>1017</th>\n",
              "      <td>RandomForestRegressor</td>\n",
              "      <td>0.413902</td>\n",
              "      <td>0.459143</td>\n",
              "      <td>0.503881</td>\n",
              "      <td>0.034175</td>\n",
              "      <td>4</td>\n",
              "      <td>sqrt</td>\n",
              "      <td>None</td>\n",
              "      <td>0.05</td>\n",
              "      <td>50</td>\n",
              "      <td>2</td>\n",
              "      <td>50</td>\n",
              "    </tr>\n",
              "    <tr>\n",
              "      <th>996</th>\n",
              "      <td>RandomForestRegressor</td>\n",
              "      <td>0.413902</td>\n",
              "      <td>0.459143</td>\n",
              "      <td>0.503881</td>\n",
              "      <td>0.034175</td>\n",
              "      <td>4</td>\n",
              "      <td>sqrt</td>\n",
              "      <td>None</td>\n",
              "      <td>0.0</td>\n",
              "      <td>50</td>\n",
              "      <td>50</td>\n",
              "      <td>50</td>\n",
              "    </tr>\n",
              "    <tr>\n",
              "      <th>993</th>\n",
              "      <td>RandomForestRegressor</td>\n",
              "      <td>0.413902</td>\n",
              "      <td>0.459143</td>\n",
              "      <td>0.503881</td>\n",
              "      <td>0.034175</td>\n",
              "      <td>4</td>\n",
              "      <td>sqrt</td>\n",
              "      <td>None</td>\n",
              "      <td>0.0</td>\n",
              "      <td>50</td>\n",
              "      <td>15</td>\n",
              "      <td>50</td>\n",
              "    </tr>\n",
              "    <tr>\n",
              "      <th>990</th>\n",
              "      <td>RandomForestRegressor</td>\n",
              "      <td>0.413902</td>\n",
              "      <td>0.459143</td>\n",
              "      <td>0.503881</td>\n",
              "      <td>0.034175</td>\n",
              "      <td>4</td>\n",
              "      <td>sqrt</td>\n",
              "      <td>None</td>\n",
              "      <td>0.0</td>\n",
              "      <td>50</td>\n",
              "      <td>2</td>\n",
              "      <td>50</td>\n",
              "    </tr>\n",
              "    <tr>\n",
              "      <th>1044</th>\n",
              "      <td>RandomForestRegressor</td>\n",
              "      <td>0.413902</td>\n",
              "      <td>0.459143</td>\n",
              "      <td>0.503881</td>\n",
              "      <td>0.034175</td>\n",
              "      <td>4</td>\n",
              "      <td>sqrt</td>\n",
              "      <td>None</td>\n",
              "      <td>0.1</td>\n",
              "      <td>50</td>\n",
              "      <td>2</td>\n",
              "      <td>50</td>\n",
              "    </tr>\n",
              "  </tbody>\n",
              "</table>\n",
              "<p>2187 rows × 12 columns</p>\n",
              "</div>"
            ],
            "text/plain": [
              "                  estimator min_score mean_score max_score std_score  \\\n",
              "488   RandomForestRegressor  0.712386   0.759532  0.790258  0.025891   \n",
              "515   RandomForestRegressor  0.712386   0.759308  0.790194  0.025843   \n",
              "542   RandomForestRegressor  0.712386   0.759308  0.790194  0.025843   \n",
              "1973  RandomForestRegressor  0.709743   0.756767  0.797058  0.029122   \n",
              "2000  RandomForestRegressor  0.709743   0.756767  0.797058  0.029122   \n",
              "...                     ...       ...        ...       ...       ...   \n",
              "1017  RandomForestRegressor  0.413902   0.459143  0.503881  0.034175   \n",
              "996   RandomForestRegressor  0.413902   0.459143  0.503881  0.034175   \n",
              "993   RandomForestRegressor  0.413902   0.459143  0.503881  0.034175   \n",
              "990   RandomForestRegressor  0.413902   0.459143  0.503881  0.034175   \n",
              "1044  RandomForestRegressor  0.413902   0.459143  0.503881  0.034175   \n",
              "\n",
              "     model__max_depth model__max_features model__max_leaf_nodes  \\\n",
              "488              None                log2                  None   \n",
              "515              None                log2                  None   \n",
              "542              None                log2                  None   \n",
              "1973               15                log2                  None   \n",
              "2000               15                log2                  None   \n",
              "...               ...                 ...                   ...   \n",
              "1017                4                sqrt                  None   \n",
              "996                 4                sqrt                  None   \n",
              "993                 4                sqrt                  None   \n",
              "990                 4                sqrt                  None   \n",
              "1044                4                sqrt                  None   \n",
              "\n",
              "     model__min_impurity_decrease model__min_samples_leaf  \\\n",
              "488                           0.0                       1   \n",
              "515                          0.05                       1   \n",
              "542                           0.1                       1   \n",
              "1973                         0.05                       1   \n",
              "2000                          0.1                       1   \n",
              "...                           ...                     ...   \n",
              "1017                         0.05                      50   \n",
              "996                           0.0                      50   \n",
              "993                           0.0                      50   \n",
              "990                           0.0                      50   \n",
              "1044                          0.1                      50   \n",
              "\n",
              "     model__min_samples_split model__n_estimators  \n",
              "488                         2                 140  \n",
              "515                         2                 140  \n",
              "542                         2                 140  \n",
              "1973                        2                 140  \n",
              "2000                        2                 140  \n",
              "...                       ...                 ...  \n",
              "1017                        2                  50  \n",
              "996                        50                  50  \n",
              "993                        15                  50  \n",
              "990                         2                  50  \n",
              "1044                        2                  50  \n",
              "\n",
              "[2187 rows x 12 columns]"
            ]
          },
          "execution_count": 118,
          "metadata": {},
          "output_type": "execute_result"
        }
      ],
      "source": [
        "pca_grid_search_summary, pca_grid_search_pipelines = pca_search.score_summary(sort_by='mean_score')\n",
        "pca_grid_search_summary"
      ]
    },
    {
      "cell_type": "markdown",
      "metadata": {},
      "source": [
        "Check the best model"
      ]
    },
    {
      "cell_type": "code",
      "execution_count": 119,
      "metadata": {},
      "outputs": [
        {
          "data": {
            "text/plain": [
              "'RandomForestRegressor'"
            ]
          },
          "execution_count": 119,
          "metadata": {},
          "output_type": "execute_result"
        }
      ],
      "source": [
        "pca_best_model = pca_grid_search_summary.iloc[0,0]\n",
        "pca_best_model"
      ]
    },
    {
      "cell_type": "markdown",
      "metadata": {},
      "source": [
        "The parameters for the best model"
      ]
    },
    {
      "cell_type": "code",
      "execution_count": 120,
      "metadata": {},
      "outputs": [
        {
          "data": {
            "text/plain": [
              "{'model__max_depth': None,\n",
              " 'model__max_features': 'log2',\n",
              " 'model__max_leaf_nodes': None,\n",
              " 'model__min_impurity_decrease': 0.0,\n",
              " 'model__min_samples_leaf': 1,\n",
              " 'model__min_samples_split': 2,\n",
              " 'model__n_estimators': 140}"
            ]
          },
          "execution_count": 120,
          "metadata": {},
          "output_type": "execute_result"
        }
      ],
      "source": [
        "pca_grid_search_pipelines[pca_best_model].best_params_"
      ]
    },
    {
      "cell_type": "markdown",
      "metadata": {},
      "source": [
        "Define the best regressor pipeline"
      ]
    },
    {
      "cell_type": "code",
      "execution_count": 121,
      "metadata": {},
      "outputs": [
        {
          "data": {
            "text/plain": [
              "Pipeline(steps=[('median',\n",
              "                 MeanMedianImputer(variables=['2ndFlrSF', 'BedroomAbvGr',\n",
              "                                              'LotFrontage', 'MasVnrArea'])),\n",
              "                ('categorical_missing',\n",
              "                 CategoricalImputer(variables=['BsmtFinType1'])),\n",
              "                ('garage_absent',\n",
              "                 ArbitraryNumberImputer(arbitrary_number=0,\n",
              "                                        variables=['GarageYrBlt'])),\n",
              "                ('categorical_frequent',\n",
              "                 CategoricalImputer(imputation_method='frequent',\n",
              "                                    variables...\n",
              "                                                     'BsmtUnfSF', 'GarageArea',\n",
              "                                                     'GarageFinish',\n",
              "                                                     'GarageYrBlt', 'GrLivArea',\n",
              "                                                     'KitchenQual', 'LotArea',\n",
              "                                                     'LotFrontage',\n",
              "                                                     'MasVnrArea',\n",
              "                                                     'OpenPorchSF',\n",
              "                                                     'OverallCond',\n",
              "                                                     'OverallQual',\n",
              "                                                     'TotalBsmtSF', 'YearBuilt',\n",
              "                                                     'YearRemodAdd'])),\n",
              "                ('feat_scaling', StandardScaler()),\n",
              "                ('PCA', PCA(n_components=8, random_state=0)),\n",
              "                ('model',\n",
              "                 RandomForestRegressor(max_features='log2', n_estimators=140,\n",
              "                                       random_state=0))])"
            ]
          },
          "execution_count": 121,
          "metadata": {},
          "output_type": "execute_result"
        }
      ],
      "source": [
        "pca_best_regressor_pipeline = pca_grid_search_pipelines[pca_best_model].best_estimator_\n",
        "pca_best_regressor_pipeline"
      ]
    },
    {
      "cell_type": "markdown",
      "metadata": {},
      "source": [
        "## Evaluate Regressor with PCA on Train and Test Sets"
      ]
    },
    {
      "cell_type": "code",
      "execution_count": 122,
      "metadata": {},
      "outputs": [
        {
          "name": "stdout",
          "output_type": "stream",
          "text": [
            "Model Evaluation \n",
            "\n",
            "* Train Set\n",
            "R2 Score: 0.967\n",
            "Mean Absolute Error: 9165.309\n",
            "Mean Squared Error: 202752767.514\n",
            "Root Mean Squared Error: 14239.128\n",
            "\n",
            "\n",
            "* Test Set\n",
            "R2 Score: 0.762\n",
            "Mean Absolute Error: 23927.394\n",
            "Mean Squared Error: 1642504505.105\n",
            "Root Mean Squared Error: 40527.824\n",
            "\n",
            "\n"
          ]
        },
        {
          "data": {
            "image/png": "[encoded data removed]",
            "text/plain": [
              "<Figure size 1200x600 with 2 Axes>"
            ]
          },
          "metadata": {},
          "output_type": "display_data"
        }
      ],
      "source": [
        "regression_performance(X_train, y_train, X_test, y_test,pca_best_regressor_pipeline)\n",
        "regression_evaluation_plots(X_train, y_train, X_test, y_test,\n",
        "                            pca_best_regressor_pipeline)"
      ]
    },
    {
      "cell_type": "markdown",
      "metadata": {},
      "source": [
        "We see that regression using PCA has also performed acceptably but has not improved performance beyond what we have achieved above. Additionally, we prefer not to use PCA unless necessary, since unlike the main regressor it does not have readily interpretable features.\n",
        "* We will therefore proceed to refit the original pipeline with the best features in the following section."
      ]
    },
    {
      "cell_type": "markdown",
      "metadata": {},
      "source": [
        "---"
      ]
    },
    {
      "cell_type": "markdown",
      "metadata": {},
      "source": [
        "# Refit the highest performing pipeline with the best features"
      ]
    },
    {
      "cell_type": "markdown",
      "metadata": {},
      "source": [
        "We have created a number of pipelines:\n",
        "* Regression using the highest-performing model in the original quick search, `RandomForestRegressor`, with 5-fold cross-validation\n",
        "* Regression using the highest-performing model in the original quick search, `RandomForestRegressor`, with 10-fold cross-validation\n",
        "* Regression searching on the two next-highest performing models in the original quick search, `ExtraTreesRegressor` and `GradientBoostingRegressor`, then using `GradientBoostingRegressor` to fit the pipeline, since it performed the better of these two following hyperparameter optimisation\n",
        "* Regression using PCA\n",
        "\n",
        "Of these pipelines, the one fitted with regression using the highest-performing model in the original quick search, `RandomForestRegressor`, with 10-fold cross-validation, was the most effective, and we will therefore choose this pipeline."
      ]
    },
    {
      "cell_type": "code",
      "execution_count": 133,
      "metadata": {},
      "outputs": [
        {
          "data": {
            "text/plain": [
              "Pipeline(steps=[('median',\n",
              "                 MeanMedianImputer(variables=['2ndFlrSF', 'BedroomAbvGr',\n",
              "                                              'LotFrontage', 'MasVnrArea'])),\n",
              "                ('categorical_missing',\n",
              "                 CategoricalImputer(variables=['BsmtFinType1'])),\n",
              "                ('garage_absent',\n",
              "                 ArbitraryNumberImputer(arbitrary_number=0,\n",
              "                                        variables=['GarageYrBlt'])),\n",
              "                ('categorical_frequent',\n",
              "                 CategoricalImputer(imputation_method='frequent',\n",
              "                                    variables...\n",
              "                                                     'KitchenQual', 'LotArea',\n",
              "                                                     'LotFrontage',\n",
              "                                                     'MasVnrArea',\n",
              "                                                     'OpenPorchSF',\n",
              "                                                     'OverallCond',\n",
              "                                                     'OverallQual',\n",
              "                                                     'TotalBsmtSF', 'YearBuilt',\n",
              "                                                     'YearRemodAdd'])),\n",
              "                ('feat_scaling', StandardScaler()),\n",
              "                ('feat_selection',\n",
              "                 SelectFromModel(estimator=RandomForestRegressor(random_state=0))),\n",
              "                ('model',\n",
              "                 RandomForestRegressor(max_depth=15, max_features='sqrt',\n",
              "                                       n_estimators=140, random_state=0))])"
            ]
          },
          "execution_count": 133,
          "metadata": {},
          "output_type": "execute_result"
        }
      ],
      "source": [
        "best_regressor_pipeline"
      ]
    },
    {
      "cell_type": "markdown",
      "metadata": {},
      "source": [
        "## We split the Train and Test sets, with the best features only:"
      ]
    },
    {
      "cell_type": "code",
      "execution_count": 134,
      "metadata": {},
      "outputs": [
        {
          "name": "stdout",
          "output_type": "stream",
          "text": [
            "* Train set: (1168, 23) (1168,) \n",
            "* Test set: (292, 23) (292,)\n"
          ]
        }
      ],
      "source": [
        "X_train, X_test, y_train, y_test = train_test_split(\n",
        "    df.drop(['SalePrice'], axis=1),\n",
        "    df['SalePrice'],\n",
        "    test_size=0.2,\n",
        "    random_state=0\n",
        ")\n",
        "\n",
        "print(\"* Train set:\", X_train.shape, y_train.shape,\n",
        "      \"\\n* Test set:\",  X_test.shape, y_test.shape)\n"
      ]
    },
    {
      "cell_type": "markdown",
      "metadata": {},
      "source": [
        "Subset the best features:"
      ]
    },
    {
      "cell_type": "code",
      "execution_count": 135,
      "metadata": {},
      "outputs": [
        {
          "name": "stdout",
          "output_type": "stream",
          "text": [
            "* Train set: (1168, 4) (1168,) \n",
            "* Test set: (292, 4) (292,)\n"
          ]
        },
        {
          "data": {
            "text/html": [
              "<div>\n",
              "<style scoped>\n",
              "    .dataframe tbody tr th:only-of-type {\n",
              "        vertical-align: middle;\n",
              "    }\n",
              "\n",
              "    .dataframe tbody tr th {\n",
              "        vertical-align: top;\n",
              "    }\n",
              "\n",
              "    .dataframe thead th {\n",
              "        text-align: right;\n",
              "    }\n",
              "</style>\n",
              "<table border=\"1\" class=\"dataframe\">\n",
              "  <thead>\n",
              "    <tr style=\"text-align: right;\">\n",
              "      <th></th>\n",
              "      <th>2ndFlrSF</th>\n",
              "      <th>LotArea</th>\n",
              "      <th>TotalBsmtSF</th>\n",
              "      <th>YearBuilt</th>\n",
              "    </tr>\n",
              "  </thead>\n",
              "  <tbody>\n",
              "    <tr>\n",
              "      <th>618</th>\n",
              "      <td>0.0</td>\n",
              "      <td>11694</td>\n",
              "      <td>1822</td>\n",
              "      <td>2007</td>\n",
              "    </tr>\n",
              "    <tr>\n",
              "      <th>870</th>\n",
              "      <td>0.0</td>\n",
              "      <td>6600</td>\n",
              "      <td>894</td>\n",
              "      <td>1962</td>\n",
              "    </tr>\n",
              "    <tr>\n",
              "      <th>92</th>\n",
              "      <td>0.0</td>\n",
              "      <td>13360</td>\n",
              "      <td>876</td>\n",
              "      <td>1921</td>\n",
              "    </tr>\n",
              "    <tr>\n",
              "      <th>817</th>\n",
              "      <td>0.0</td>\n",
              "      <td>13265</td>\n",
              "      <td>1568</td>\n",
              "      <td>2002</td>\n",
              "    </tr>\n",
              "    <tr>\n",
              "      <th>302</th>\n",
              "      <td>0.0</td>\n",
              "      <td>13704</td>\n",
              "      <td>1541</td>\n",
              "      <td>2001</td>\n",
              "    </tr>\n",
              "  </tbody>\n",
              "</table>\n",
              "</div>"
            ],
            "text/plain": [
              "     2ndFlrSF  LotArea  TotalBsmtSF  YearBuilt\n",
              "618       0.0    11694         1822       2007\n",
              "870       0.0     6600          894       1962\n",
              "92        0.0    13360          876       1921\n",
              "817       0.0    13265         1568       2002\n",
              "302       0.0    13704         1541       2001"
            ]
          },
          "execution_count": 135,
          "metadata": {},
          "output_type": "execute_result"
        }
      ],
      "source": [
        "X_train = X_train.filter(best_features)\n",
        "X_test = X_test.filter(best_features)\n",
        "\n",
        "print(\"* Train set:\", X_train.shape, y_train.shape, \"\\n* Test set:\",  X_test.shape, y_test.shape)\n",
        "X_train.head()"
      ]
    },
    {
      "cell_type": "markdown",
      "metadata": {},
      "source": [
        "Now we rewrite the pipeline, with only the best features:"
      ]
    },
    {
      "cell_type": "code",
      "execution_count": 136,
      "metadata": {},
      "outputs": [],
      "source": [
        "def PipelineOptimisation(model):\n",
        "  pipeline_base = Pipeline([\n",
        "    # Data Cleaning for only the best features\n",
        "     ('median', MeanMedianImputer(imputation_method='median',\n",
        "                                 variables=['2ndFlrSF']) ),\n",
        "\n",
        "    # Feature Engineering for only the best features\n",
        "    ('log_transform', vt.LogTransformer(variables=['LotArea'])),\n",
        "       \n",
        "    ('power_transform', vt.PowerTransformer(variables=['TotalBsmtSF'])),    \n",
        "       \n",
        "    # Smart Correlated Selection is no longer needed, since we specify the features to be included\n",
        "\n",
        "    (\"feat_scaling\", StandardScaler() ),\n",
        "\n",
        "    # Feature Selection is no longer needed, since we specify the features to be included\n",
        "\n",
        "    (\"model\", model ),\n",
        "    ])\n",
        "\n",
        "  return pipeline_base"
      ]
    },
    {
      "cell_type": "markdown",
      "metadata": {},
      "source": [
        "## Grid Search CV – Sklearn"
      ]
    },
    {
      "cell_type": "markdown",
      "metadata": {},
      "source": [
        "We use the same model from the previous GridCV search:"
      ]
    },
    {
      "cell_type": "code",
      "execution_count": 137,
      "metadata": {},
      "outputs": [
        {
          "data": {
            "text/plain": [
              "{'RandomForestRegressor': RandomForestRegressor(random_state=0)}"
            ]
          },
          "execution_count": 137,
          "metadata": {},
          "output_type": "execute_result"
        }
      ],
      "source": [
        "models_search"
      ]
    },
    {
      "cell_type": "markdown",
      "metadata": {},
      "source": [
        "And the best parameters from the previous GridCV search:"
      ]
    },
    {
      "cell_type": "code",
      "execution_count": 138,
      "metadata": {},
      "outputs": [
        {
          "data": {
            "text/plain": [
              "{'model__max_depth': 15,\n",
              " 'model__max_features': 'sqrt',\n",
              " 'model__max_leaf_nodes': None,\n",
              " 'model__min_impurity_decrease': 0.0,\n",
              " 'model__min_samples_leaf': 1,\n",
              " 'model__min_samples_split': 2,\n",
              " 'model__n_estimators': 140}"
            ]
          },
          "execution_count": 138,
          "metadata": {},
          "output_type": "execute_result"
        }
      ],
      "source": [
        "best_parameters = grid_search_pipelines[best_model].best_params_\n",
        "best_parameters"
      ]
    },
    {
      "cell_type": "markdown",
      "metadata": {},
      "source": [
        "Adjust this output manually so that the hyperparameter values appear as a list:"
      ]
    },
    {
      "cell_type": "code",
      "execution_count": 139,
      "metadata": {},
      "outputs": [
        {
          "data": {
            "text/plain": [
              "{'RandomForestRegressor': {'model__max_depth': [15],\n",
              "  'model__max_features': ['sqrt'],\n",
              "  'model__max_leaf_nodes': [None],\n",
              "  'model__min_impurity_decrease': [0.0],\n",
              "  'model__min_samples_leaf': [1],\n",
              "  'model__min_samples_split': [2],\n",
              "  'model__n_estimators': [140]}}"
            ]
          },
          "execution_count": 139,
          "metadata": {},
          "output_type": "execute_result"
        }
      ],
      "source": [
        "params_search = {'RandomForestRegressor': {\n",
        "    'model__max_depth': [15],\n",
        "    'model__max_features': ['sqrt'],\n",
        "    'model__max_leaf_nodes': [None],\n",
        "    'model__min_impurity_decrease': [0.0],\n",
        "    'model__min_samples_leaf': [1],\n",
        "    'model__min_samples_split': [2],\n",
        "    'model__n_estimators': [140]\n",
        " }\n",
        " }\n",
        "params_search"
      ]
    },
    {
      "cell_type": "markdown",
      "metadata": {},
      "source": [
        "GridSearch CV"
      ]
    },
    {
      "cell_type": "code",
      "execution_count": 140,
      "metadata": {},
      "outputs": [
        {
          "name": "stdout",
          "output_type": "stream",
          "text": [
            "\n",
            "Running GridSearchCV for RandomForestRegressor \n",
            "\n",
            "Fitting 10 folds for each of 1 candidates, totalling 10 fits\n"
          ]
        }
      ],
      "source": [
        "search = HyperparameterOptimisationSearch(models=models_search, params=params_search)\n",
        "search.fit(X_train, y_train, scoring = 'r2', n_jobs=-1, cv=10)"
      ]
    },
    {
      "cell_type": "markdown",
      "metadata": {},
      "source": [
        "Check the results:"
      ]
    },
    {
      "cell_type": "code",
      "execution_count": 141,
      "metadata": {},
      "outputs": [
        {
          "data": {
            "text/html": [
              "<div>\n",
              "<style scoped>\n",
              "    .dataframe tbody tr th:only-of-type {\n",
              "        vertical-align: middle;\n",
              "    }\n",
              "\n",
              "    .dataframe tbody tr th {\n",
              "        vertical-align: top;\n",
              "    }\n",
              "\n",
              "    .dataframe thead th {\n",
              "        text-align: right;\n",
              "    }\n",
              "</style>\n",
              "<table border=\"1\" class=\"dataframe\">\n",
              "  <thead>\n",
              "    <tr style=\"text-align: right;\">\n",
              "      <th></th>\n",
              "      <th>estimator</th>\n",
              "      <th>min_score</th>\n",
              "      <th>mean_score</th>\n",
              "      <th>max_score</th>\n",
              "      <th>std_score</th>\n",
              "      <th>model__max_depth</th>\n",
              "      <th>model__max_features</th>\n",
              "      <th>model__max_leaf_nodes</th>\n",
              "      <th>model__min_impurity_decrease</th>\n",
              "      <th>model__min_samples_leaf</th>\n",
              "      <th>model__min_samples_split</th>\n",
              "      <th>model__n_estimators</th>\n",
              "    </tr>\n",
              "  </thead>\n",
              "  <tbody>\n",
              "    <tr>\n",
              "      <th>0</th>\n",
              "      <td>RandomForestRegressor</td>\n",
              "      <td>0.640759</td>\n",
              "      <td>0.782601</td>\n",
              "      <td>0.847945</td>\n",
              "      <td>0.05579</td>\n",
              "      <td>15</td>\n",
              "      <td>sqrt</td>\n",
              "      <td>None</td>\n",
              "      <td>0.0</td>\n",
              "      <td>1</td>\n",
              "      <td>2</td>\n",
              "      <td>140</td>\n",
              "    </tr>\n",
              "  </tbody>\n",
              "</table>\n",
              "</div>"
            ],
            "text/plain": [
              "               estimator min_score mean_score max_score std_score  \\\n",
              "0  RandomForestRegressor  0.640759   0.782601  0.847945   0.05579   \n",
              "\n",
              "  model__max_depth model__max_features model__max_leaf_nodes  \\\n",
              "0               15                sqrt                  None   \n",
              "\n",
              "  model__min_impurity_decrease model__min_samples_leaf  \\\n",
              "0                          0.0                       1   \n",
              "\n",
              "  model__min_samples_split model__n_estimators  \n",
              "0                        2                 140  "
            ]
          },
          "execution_count": 141,
          "metadata": {},
          "output_type": "execute_result"
        }
      ],
      "source": [
        "grid_search_summary, grid_search_pipelines = search.score_summary(sort_by='mean_score')\n",
        "grid_search_summary"
      ]
    },
    {
      "cell_type": "markdown",
      "metadata": {},
      "source": [
        "Check the best model:"
      ]
    },
    {
      "cell_type": "code",
      "execution_count": 142,
      "metadata": {},
      "outputs": [
        {
          "data": {
            "text/plain": [
              "'RandomForestRegressor'"
            ]
          },
          "execution_count": 142,
          "metadata": {},
          "output_type": "execute_result"
        }
      ],
      "source": [
        "best_model = grid_search_summary.iloc[0,0]\n",
        "best_model"
      ]
    },
    {
      "cell_type": "markdown",
      "metadata": {},
      "source": [
        "Define the best regressor pipeline:"
      ]
    },
    {
      "cell_type": "code",
      "execution_count": 143,
      "metadata": {},
      "outputs": [
        {
          "data": {
            "text/plain": [
              "Pipeline(steps=[('median', MeanMedianImputer(variables=['2ndFlrSF'])),\n",
              "                ('log_transform', LogTransformer(variables=['LotArea'])),\n",
              "                ('power_transform',\n",
              "                 PowerTransformer(variables=['TotalBsmtSF'])),\n",
              "                ('feat_scaling', StandardScaler()),\n",
              "                ('model',\n",
              "                 RandomForestRegressor(max_depth=15, max_features='sqrt',\n",
              "                                       n_estimators=140, random_state=0))])"
            ]
          },
          "execution_count": 143,
          "metadata": {},
          "output_type": "execute_result"
        }
      ],
      "source": [
        "best_regressor_pipeline = grid_search_pipelines[best_model].best_estimator_\n",
        "best_regressor_pipeline"
      ]
    },
    {
      "cell_type": "markdown",
      "metadata": {},
      "source": [
        "Assess feature importance:"
      ]
    },
    {
      "cell_type": "code",
      "execution_count": 146,
      "metadata": {},
      "outputs": [
        {
          "name": "stdout",
          "output_type": "stream",
          "text": [
            "* These are the 4 most important features in descending order. The model was trained on them: \n",
            "['TotalBsmtSF', 'YearBuilt', '2ndFlrSF', 'LotArea']\n"
          ]
        },
        {
          "data": {
            "image/png": "[encoded data removed]",
            "text/plain": [
              "<Figure size 640x480 with 1 Axes>"
            ]
          },
          "metadata": {},
          "output_type": "display_data"
        }
      ],
      "source": [
        "# there are now three pipeline steps in total that involve data cleaning and feature engineering\n",
        "data_cleaning_feat_eng_steps = 3\n",
        "columns_after_data_cleaning_feat_eng = (Pipeline(best_regressor_pipeline.steps[:data_cleaning_feat_eng_steps])\n",
        "                                        .transform(X_train)\n",
        "                                        .columns)\n",
        "\n",
        "best_features = columns_after_data_cleaning_feat_eng\n",
        "\n",
        "# create DataFrame to display feature importance\n",
        "df_feature_importance = (pd.DataFrame(data={\n",
        "    'Feature': columns_after_data_cleaning_feat_eng,\n",
        "    'Importance': best_regressor_pipeline['model'].feature_importances_})\n",
        "    .sort_values(by='Importance', ascending=False)\n",
        ")\n",
        "\n",
        "# most important features statement and plot\n",
        "print(f\"* These are the {len(best_features)} most important features in descending order. \"\n",
        "      f\"The model was trained on them: \\n{df_feature_importance['Feature'].to_list()}\")\n",
        "\n",
        "df_feature_importance.plot(kind='bar', x='Feature', y='Importance')\n",
        "plt.show()"
      ]
    },
    {
      "cell_type": "markdown",
      "metadata": {},
      "source": [
        "Evaluate the performance of the train and test sets:"
      ]
    },
    {
      "cell_type": "code",
      "execution_count": 147,
      "metadata": {},
      "outputs": [
        {
          "name": "stdout",
          "output_type": "stream",
          "text": [
            "Model Evaluation \n",
            "\n",
            "* Train Set\n",
            "R2 Score: 0.967\n",
            "Mean Absolute Error: 9415.438\n",
            "Mean Squared Error: 202231884.776\n",
            "Root Mean Squared Error: 14220.826\n",
            "\n",
            "\n",
            "* Test Set\n",
            "R2 Score: 0.775\n",
            "Mean Absolute Error: 25674.948\n",
            "Mean Squared Error: 1556222980.621\n",
            "Root Mean Squared Error: 39448.992\n",
            "\n",
            "\n"
          ]
        },
        {
          "data": {
            "image/png": "[encoded data removed]",
            "text/plain": [
              "<Figure size 1200x600 with 2 Axes>"
            ]
          },
          "metadata": {},
          "output_type": "display_data"
        }
      ],
      "source": [
        "regression_performance(X_train, y_train, X_test, y_test, best_regressor_pipeline)\n",
        "regression_evaluation_plots(X_train, y_train, X_test, y_test, best_regressor_pipeline)"
      ]
    },
    {
      "cell_type": "markdown",
      "metadata": {},
      "source": [
        "---"
      ]
    },
    {
      "cell_type": "markdown",
      "metadata": {},
      "source": [
        "---"
      ]
    },
    {
      "cell_type": "markdown",
      "metadata": {},
      "source": [
        "# Conclusions and Next Steps"
      ]
    },
    {
      "cell_type": "markdown",
      "metadata": {},
      "source": [
        "* After investigating various algorithms and combinations of hyperparameters, we find that using the RandomForestRegressor algorithm with 10-fold cross-validation has produced the best results. Investigating other high-performing algorithms has not been able to improve the model's performance on unseen data.\n",
        "* [next, we will undertake the following steps:\n",
        "    - Refit the pipeline using only the most important features, verify performance with these features only, and save the datasets, modelling pipeline and feature importance plot.\n",
        "    - Investigate whether Principal Component Analysis is able to produce better results.]"
      ]
    }
  ],
  "metadata": {
    "accelerator": "GPU",
    "colab": {
      "name": "Data Practitioner Jupyter Notebook.ipynb",
      "provenance": [],
      "toc_visible": true
    },
    "interpreter": {
      "hash": "8b8334dab9339717f727a1deaf837b322d7a41c20d15cc86be99a8e69ceec8ce"
    },
    "kernelspec": {
      "display_name": "Python 3.8.12 64-bit ('3.8.12': pyenv)",
      "name": "python3"
    },
    "language_info": {
      "codemirror_mode": {
        "name": "ipython",
        "version": 3
      },
      "file_extension": ".py",
      "mimetype": "text/x-python",
      "name": "python",
      "nbconvert_exporter": "python",
      "pygments_lexer": "ipython3",
      "version": "3.8.12"
    },
    "orig_nbformat": 2
  },
  "nbformat": 4,
  "nbformat_minor": 2
}
